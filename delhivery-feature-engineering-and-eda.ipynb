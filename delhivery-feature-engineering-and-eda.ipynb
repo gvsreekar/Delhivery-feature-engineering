{
 "cells": [
  {
   "cell_type": "code",
   "execution_count": 1,
   "id": "c98beb9c",
   "metadata": {
    "execution": {
     "iopub.execute_input": "2024-03-29T17:58:52.189453Z",
     "iopub.status.busy": "2024-03-29T17:58:52.189038Z",
     "iopub.status.idle": "2024-03-29T17:58:56.810684Z",
     "shell.execute_reply": "2024-03-29T17:58:56.809534Z"
    },
    "papermill": {
     "duration": 4.693521,
     "end_time": "2024-03-29T17:58:56.813999",
     "exception": false,
     "start_time": "2024-03-29T17:58:52.120478",
     "status": "completed"
    },
    "tags": []
   },
   "outputs": [],
   "source": [
    "import numpy as np\n",
    "import pandas as pd \n",
    "import seaborn as sns \n",
    "import scipy \n",
    "import matplotlib.pyplot as plt\n",
    "\n",
    "df=pd.read_csv('/kaggle/input/delhivery-dataset/delhivery_data.csv')\n",
    "pd.set_option('display.max_columns', None) # This is to show all columns\n"
   ]
  },
  {
   "cell_type": "code",
   "execution_count": 2,
   "id": "f7f1e01b",
   "metadata": {
    "execution": {
     "iopub.execute_input": "2024-03-29T17:58:56.973001Z",
     "iopub.status.busy": "2024-03-29T17:58:56.972094Z",
     "iopub.status.idle": "2024-03-29T17:58:57.026923Z",
     "shell.execute_reply": "2024-03-29T17:58:57.025603Z"
    },
    "papermill": {
     "duration": 0.145376,
     "end_time": "2024-03-29T17:58:57.030269",
     "exception": false,
     "start_time": "2024-03-29T17:58:56.884893",
     "status": "completed"
    },
    "tags": []
   },
   "outputs": [
    {
     "data": {
      "text/html": [
       "<div>\n",
       "<style scoped>\n",
       "    .dataframe tbody tr th:only-of-type {\n",
       "        vertical-align: middle;\n",
       "    }\n",
       "\n",
       "    .dataframe tbody tr th {\n",
       "        vertical-align: top;\n",
       "    }\n",
       "\n",
       "    .dataframe thead th {\n",
       "        text-align: right;\n",
       "    }\n",
       "</style>\n",
       "<table border=\"1\" class=\"dataframe\">\n",
       "  <thead>\n",
       "    <tr style=\"text-align: right;\">\n",
       "      <th></th>\n",
       "      <th>data</th>\n",
       "      <th>trip_creation_time</th>\n",
       "      <th>route_schedule_uuid</th>\n",
       "      <th>route_type</th>\n",
       "      <th>trip_uuid</th>\n",
       "      <th>source_center</th>\n",
       "      <th>source_name</th>\n",
       "      <th>destination_center</th>\n",
       "      <th>destination_name</th>\n",
       "      <th>od_start_time</th>\n",
       "      <th>od_end_time</th>\n",
       "      <th>start_scan_to_end_scan</th>\n",
       "      <th>is_cutoff</th>\n",
       "      <th>cutoff_factor</th>\n",
       "      <th>cutoff_timestamp</th>\n",
       "      <th>actual_distance_to_destination</th>\n",
       "      <th>actual_time</th>\n",
       "      <th>osrm_time</th>\n",
       "      <th>osrm_distance</th>\n",
       "      <th>factor</th>\n",
       "      <th>segment_actual_time</th>\n",
       "      <th>segment_osrm_time</th>\n",
       "      <th>segment_osrm_distance</th>\n",
       "      <th>segment_factor</th>\n",
       "    </tr>\n",
       "  </thead>\n",
       "  <tbody>\n",
       "    <tr>\n",
       "      <th>0</th>\n",
       "      <td>training</td>\n",
       "      <td>2018-09-20 02:35:36.476840</td>\n",
       "      <td>thanos::sroute:eb7bfc78-b351-4c0e-a951-fa3d5c3...</td>\n",
       "      <td>Carting</td>\n",
       "      <td>trip-153741093647649320</td>\n",
       "      <td>IND388121AAA</td>\n",
       "      <td>Anand_VUNagar_DC (Gujarat)</td>\n",
       "      <td>IND388620AAB</td>\n",
       "      <td>Khambhat_MotvdDPP_D (Gujarat)</td>\n",
       "      <td>2018-09-20 03:21:32.418600</td>\n",
       "      <td>2018-09-20 04:47:45.236797</td>\n",
       "      <td>86.0</td>\n",
       "      <td>True</td>\n",
       "      <td>9</td>\n",
       "      <td>2018-09-20 04:27:55</td>\n",
       "      <td>10.435660</td>\n",
       "      <td>14.0</td>\n",
       "      <td>11.0</td>\n",
       "      <td>11.9653</td>\n",
       "      <td>1.272727</td>\n",
       "      <td>14.0</td>\n",
       "      <td>11.0</td>\n",
       "      <td>11.9653</td>\n",
       "      <td>1.272727</td>\n",
       "    </tr>\n",
       "    <tr>\n",
       "      <th>1</th>\n",
       "      <td>training</td>\n",
       "      <td>2018-09-20 02:35:36.476840</td>\n",
       "      <td>thanos::sroute:eb7bfc78-b351-4c0e-a951-fa3d5c3...</td>\n",
       "      <td>Carting</td>\n",
       "      <td>trip-153741093647649320</td>\n",
       "      <td>IND388121AAA</td>\n",
       "      <td>Anand_VUNagar_DC (Gujarat)</td>\n",
       "      <td>IND388620AAB</td>\n",
       "      <td>Khambhat_MotvdDPP_D (Gujarat)</td>\n",
       "      <td>2018-09-20 03:21:32.418600</td>\n",
       "      <td>2018-09-20 04:47:45.236797</td>\n",
       "      <td>86.0</td>\n",
       "      <td>True</td>\n",
       "      <td>18</td>\n",
       "      <td>2018-09-20 04:17:55</td>\n",
       "      <td>18.936842</td>\n",
       "      <td>24.0</td>\n",
       "      <td>20.0</td>\n",
       "      <td>21.7243</td>\n",
       "      <td>1.200000</td>\n",
       "      <td>10.0</td>\n",
       "      <td>9.0</td>\n",
       "      <td>9.7590</td>\n",
       "      <td>1.111111</td>\n",
       "    </tr>\n",
       "    <tr>\n",
       "      <th>2</th>\n",
       "      <td>training</td>\n",
       "      <td>2018-09-20 02:35:36.476840</td>\n",
       "      <td>thanos::sroute:eb7bfc78-b351-4c0e-a951-fa3d5c3...</td>\n",
       "      <td>Carting</td>\n",
       "      <td>trip-153741093647649320</td>\n",
       "      <td>IND388121AAA</td>\n",
       "      <td>Anand_VUNagar_DC (Gujarat)</td>\n",
       "      <td>IND388620AAB</td>\n",
       "      <td>Khambhat_MotvdDPP_D (Gujarat)</td>\n",
       "      <td>2018-09-20 03:21:32.418600</td>\n",
       "      <td>2018-09-20 04:47:45.236797</td>\n",
       "      <td>86.0</td>\n",
       "      <td>True</td>\n",
       "      <td>27</td>\n",
       "      <td>2018-09-20 04:01:19.505586</td>\n",
       "      <td>27.637279</td>\n",
       "      <td>40.0</td>\n",
       "      <td>28.0</td>\n",
       "      <td>32.5395</td>\n",
       "      <td>1.428571</td>\n",
       "      <td>16.0</td>\n",
       "      <td>7.0</td>\n",
       "      <td>10.8152</td>\n",
       "      <td>2.285714</td>\n",
       "    </tr>\n",
       "    <tr>\n",
       "      <th>3</th>\n",
       "      <td>training</td>\n",
       "      <td>2018-09-20 02:35:36.476840</td>\n",
       "      <td>thanos::sroute:eb7bfc78-b351-4c0e-a951-fa3d5c3...</td>\n",
       "      <td>Carting</td>\n",
       "      <td>trip-153741093647649320</td>\n",
       "      <td>IND388121AAA</td>\n",
       "      <td>Anand_VUNagar_DC (Gujarat)</td>\n",
       "      <td>IND388620AAB</td>\n",
       "      <td>Khambhat_MotvdDPP_D (Gujarat)</td>\n",
       "      <td>2018-09-20 03:21:32.418600</td>\n",
       "      <td>2018-09-20 04:47:45.236797</td>\n",
       "      <td>86.0</td>\n",
       "      <td>True</td>\n",
       "      <td>36</td>\n",
       "      <td>2018-09-20 03:39:57</td>\n",
       "      <td>36.118028</td>\n",
       "      <td>62.0</td>\n",
       "      <td>40.0</td>\n",
       "      <td>45.5620</td>\n",
       "      <td>1.550000</td>\n",
       "      <td>21.0</td>\n",
       "      <td>12.0</td>\n",
       "      <td>13.0224</td>\n",
       "      <td>1.750000</td>\n",
       "    </tr>\n",
       "    <tr>\n",
       "      <th>4</th>\n",
       "      <td>training</td>\n",
       "      <td>2018-09-20 02:35:36.476840</td>\n",
       "      <td>thanos::sroute:eb7bfc78-b351-4c0e-a951-fa3d5c3...</td>\n",
       "      <td>Carting</td>\n",
       "      <td>trip-153741093647649320</td>\n",
       "      <td>IND388121AAA</td>\n",
       "      <td>Anand_VUNagar_DC (Gujarat)</td>\n",
       "      <td>IND388620AAB</td>\n",
       "      <td>Khambhat_MotvdDPP_D (Gujarat)</td>\n",
       "      <td>2018-09-20 03:21:32.418600</td>\n",
       "      <td>2018-09-20 04:47:45.236797</td>\n",
       "      <td>86.0</td>\n",
       "      <td>False</td>\n",
       "      <td>39</td>\n",
       "      <td>2018-09-20 03:33:55</td>\n",
       "      <td>39.386040</td>\n",
       "      <td>68.0</td>\n",
       "      <td>44.0</td>\n",
       "      <td>54.2181</td>\n",
       "      <td>1.545455</td>\n",
       "      <td>6.0</td>\n",
       "      <td>5.0</td>\n",
       "      <td>3.9153</td>\n",
       "      <td>1.200000</td>\n",
       "    </tr>\n",
       "    <tr>\n",
       "      <th>5</th>\n",
       "      <td>training</td>\n",
       "      <td>2018-09-20 02:35:36.476840</td>\n",
       "      <td>thanos::sroute:eb7bfc78-b351-4c0e-a951-fa3d5c3...</td>\n",
       "      <td>Carting</td>\n",
       "      <td>trip-153741093647649320</td>\n",
       "      <td>IND388620AAB</td>\n",
       "      <td>Khambhat_MotvdDPP_D (Gujarat)</td>\n",
       "      <td>IND388320AAA</td>\n",
       "      <td>Anand_Vaghasi_IP (Gujarat)</td>\n",
       "      <td>2018-09-20 04:47:45.236797</td>\n",
       "      <td>2018-09-20 06:36:55.627764</td>\n",
       "      <td>109.0</td>\n",
       "      <td>True</td>\n",
       "      <td>9</td>\n",
       "      <td>2018-09-20 06:15:58</td>\n",
       "      <td>10.403038</td>\n",
       "      <td>15.0</td>\n",
       "      <td>11.0</td>\n",
       "      <td>12.1171</td>\n",
       "      <td>1.363636</td>\n",
       "      <td>15.0</td>\n",
       "      <td>11.0</td>\n",
       "      <td>12.1171</td>\n",
       "      <td>1.363636</td>\n",
       "    </tr>\n",
       "    <tr>\n",
       "      <th>6</th>\n",
       "      <td>training</td>\n",
       "      <td>2018-09-20 02:35:36.476840</td>\n",
       "      <td>thanos::sroute:eb7bfc78-b351-4c0e-a951-fa3d5c3...</td>\n",
       "      <td>Carting</td>\n",
       "      <td>trip-153741093647649320</td>\n",
       "      <td>IND388620AAB</td>\n",
       "      <td>Khambhat_MotvdDPP_D (Gujarat)</td>\n",
       "      <td>IND388320AAA</td>\n",
       "      <td>Anand_Vaghasi_IP (Gujarat)</td>\n",
       "      <td>2018-09-20 04:47:45.236797</td>\n",
       "      <td>2018-09-20 06:36:55.627764</td>\n",
       "      <td>109.0</td>\n",
       "      <td>True</td>\n",
       "      <td>18</td>\n",
       "      <td>2018-09-20 05:47:29</td>\n",
       "      <td>18.045481</td>\n",
       "      <td>44.0</td>\n",
       "      <td>17.0</td>\n",
       "      <td>21.2890</td>\n",
       "      <td>2.588235</td>\n",
       "      <td>28.0</td>\n",
       "      <td>6.0</td>\n",
       "      <td>9.1719</td>\n",
       "      <td>4.666667</td>\n",
       "    </tr>\n",
       "    <tr>\n",
       "      <th>7</th>\n",
       "      <td>training</td>\n",
       "      <td>2018-09-20 02:35:36.476840</td>\n",
       "      <td>thanos::sroute:eb7bfc78-b351-4c0e-a951-fa3d5c3...</td>\n",
       "      <td>Carting</td>\n",
       "      <td>trip-153741093647649320</td>\n",
       "      <td>IND388620AAB</td>\n",
       "      <td>Khambhat_MotvdDPP_D (Gujarat)</td>\n",
       "      <td>IND388320AAA</td>\n",
       "      <td>Anand_Vaghasi_IP (Gujarat)</td>\n",
       "      <td>2018-09-20 04:47:45.236797</td>\n",
       "      <td>2018-09-20 06:36:55.627764</td>\n",
       "      <td>109.0</td>\n",
       "      <td>True</td>\n",
       "      <td>27</td>\n",
       "      <td>2018-09-20 05:25:58</td>\n",
       "      <td>28.061896</td>\n",
       "      <td>65.0</td>\n",
       "      <td>29.0</td>\n",
       "      <td>35.8252</td>\n",
       "      <td>2.241379</td>\n",
       "      <td>21.0</td>\n",
       "      <td>11.0</td>\n",
       "      <td>14.5362</td>\n",
       "      <td>1.909091</td>\n",
       "    </tr>\n",
       "    <tr>\n",
       "      <th>8</th>\n",
       "      <td>training</td>\n",
       "      <td>2018-09-20 02:35:36.476840</td>\n",
       "      <td>thanos::sroute:eb7bfc78-b351-4c0e-a951-fa3d5c3...</td>\n",
       "      <td>Carting</td>\n",
       "      <td>trip-153741093647649320</td>\n",
       "      <td>IND388620AAB</td>\n",
       "      <td>Khambhat_MotvdDPP_D (Gujarat)</td>\n",
       "      <td>IND388320AAA</td>\n",
       "      <td>Anand_Vaghasi_IP (Gujarat)</td>\n",
       "      <td>2018-09-20 04:47:45.236797</td>\n",
       "      <td>2018-09-20 06:36:55.627764</td>\n",
       "      <td>109.0</td>\n",
       "      <td>True</td>\n",
       "      <td>36</td>\n",
       "      <td>2018-09-20 05:15:56</td>\n",
       "      <td>38.939167</td>\n",
       "      <td>76.0</td>\n",
       "      <td>39.0</td>\n",
       "      <td>47.1900</td>\n",
       "      <td>1.948718</td>\n",
       "      <td>10.0</td>\n",
       "      <td>10.0</td>\n",
       "      <td>11.3648</td>\n",
       "      <td>1.000000</td>\n",
       "    </tr>\n",
       "    <tr>\n",
       "      <th>9</th>\n",
       "      <td>training</td>\n",
       "      <td>2018-09-20 02:35:36.476840</td>\n",
       "      <td>thanos::sroute:eb7bfc78-b351-4c0e-a951-fa3d5c3...</td>\n",
       "      <td>Carting</td>\n",
       "      <td>trip-153741093647649320</td>\n",
       "      <td>IND388620AAB</td>\n",
       "      <td>Khambhat_MotvdDPP_D (Gujarat)</td>\n",
       "      <td>IND388320AAA</td>\n",
       "      <td>Anand_Vaghasi_IP (Gujarat)</td>\n",
       "      <td>2018-09-20 04:47:45.236797</td>\n",
       "      <td>2018-09-20 06:36:55.627764</td>\n",
       "      <td>109.0</td>\n",
       "      <td>False</td>\n",
       "      <td>43</td>\n",
       "      <td>2018-09-20 04:49:20</td>\n",
       "      <td>43.595802</td>\n",
       "      <td>102.0</td>\n",
       "      <td>45.0</td>\n",
       "      <td>53.2334</td>\n",
       "      <td>2.266667</td>\n",
       "      <td>26.0</td>\n",
       "      <td>6.0</td>\n",
       "      <td>6.0434</td>\n",
       "      <td>4.333333</td>\n",
       "    </tr>\n",
       "  </tbody>\n",
       "</table>\n",
       "</div>"
      ],
      "text/plain": [
       "       data          trip_creation_time  \\\n",
       "0  training  2018-09-20 02:35:36.476840   \n",
       "1  training  2018-09-20 02:35:36.476840   \n",
       "2  training  2018-09-20 02:35:36.476840   \n",
       "3  training  2018-09-20 02:35:36.476840   \n",
       "4  training  2018-09-20 02:35:36.476840   \n",
       "5  training  2018-09-20 02:35:36.476840   \n",
       "6  training  2018-09-20 02:35:36.476840   \n",
       "7  training  2018-09-20 02:35:36.476840   \n",
       "8  training  2018-09-20 02:35:36.476840   \n",
       "9  training  2018-09-20 02:35:36.476840   \n",
       "\n",
       "                                 route_schedule_uuid route_type  \\\n",
       "0  thanos::sroute:eb7bfc78-b351-4c0e-a951-fa3d5c3...    Carting   \n",
       "1  thanos::sroute:eb7bfc78-b351-4c0e-a951-fa3d5c3...    Carting   \n",
       "2  thanos::sroute:eb7bfc78-b351-4c0e-a951-fa3d5c3...    Carting   \n",
       "3  thanos::sroute:eb7bfc78-b351-4c0e-a951-fa3d5c3...    Carting   \n",
       "4  thanos::sroute:eb7bfc78-b351-4c0e-a951-fa3d5c3...    Carting   \n",
       "5  thanos::sroute:eb7bfc78-b351-4c0e-a951-fa3d5c3...    Carting   \n",
       "6  thanos::sroute:eb7bfc78-b351-4c0e-a951-fa3d5c3...    Carting   \n",
       "7  thanos::sroute:eb7bfc78-b351-4c0e-a951-fa3d5c3...    Carting   \n",
       "8  thanos::sroute:eb7bfc78-b351-4c0e-a951-fa3d5c3...    Carting   \n",
       "9  thanos::sroute:eb7bfc78-b351-4c0e-a951-fa3d5c3...    Carting   \n",
       "\n",
       "                 trip_uuid source_center                    source_name  \\\n",
       "0  trip-153741093647649320  IND388121AAA     Anand_VUNagar_DC (Gujarat)   \n",
       "1  trip-153741093647649320  IND388121AAA     Anand_VUNagar_DC (Gujarat)   \n",
       "2  trip-153741093647649320  IND388121AAA     Anand_VUNagar_DC (Gujarat)   \n",
       "3  trip-153741093647649320  IND388121AAA     Anand_VUNagar_DC (Gujarat)   \n",
       "4  trip-153741093647649320  IND388121AAA     Anand_VUNagar_DC (Gujarat)   \n",
       "5  trip-153741093647649320  IND388620AAB  Khambhat_MotvdDPP_D (Gujarat)   \n",
       "6  trip-153741093647649320  IND388620AAB  Khambhat_MotvdDPP_D (Gujarat)   \n",
       "7  trip-153741093647649320  IND388620AAB  Khambhat_MotvdDPP_D (Gujarat)   \n",
       "8  trip-153741093647649320  IND388620AAB  Khambhat_MotvdDPP_D (Gujarat)   \n",
       "9  trip-153741093647649320  IND388620AAB  Khambhat_MotvdDPP_D (Gujarat)   \n",
       "\n",
       "  destination_center               destination_name  \\\n",
       "0       IND388620AAB  Khambhat_MotvdDPP_D (Gujarat)   \n",
       "1       IND388620AAB  Khambhat_MotvdDPP_D (Gujarat)   \n",
       "2       IND388620AAB  Khambhat_MotvdDPP_D (Gujarat)   \n",
       "3       IND388620AAB  Khambhat_MotvdDPP_D (Gujarat)   \n",
       "4       IND388620AAB  Khambhat_MotvdDPP_D (Gujarat)   \n",
       "5       IND388320AAA     Anand_Vaghasi_IP (Gujarat)   \n",
       "6       IND388320AAA     Anand_Vaghasi_IP (Gujarat)   \n",
       "7       IND388320AAA     Anand_Vaghasi_IP (Gujarat)   \n",
       "8       IND388320AAA     Anand_Vaghasi_IP (Gujarat)   \n",
       "9       IND388320AAA     Anand_Vaghasi_IP (Gujarat)   \n",
       "\n",
       "                od_start_time                 od_end_time  \\\n",
       "0  2018-09-20 03:21:32.418600  2018-09-20 04:47:45.236797   \n",
       "1  2018-09-20 03:21:32.418600  2018-09-20 04:47:45.236797   \n",
       "2  2018-09-20 03:21:32.418600  2018-09-20 04:47:45.236797   \n",
       "3  2018-09-20 03:21:32.418600  2018-09-20 04:47:45.236797   \n",
       "4  2018-09-20 03:21:32.418600  2018-09-20 04:47:45.236797   \n",
       "5  2018-09-20 04:47:45.236797  2018-09-20 06:36:55.627764   \n",
       "6  2018-09-20 04:47:45.236797  2018-09-20 06:36:55.627764   \n",
       "7  2018-09-20 04:47:45.236797  2018-09-20 06:36:55.627764   \n",
       "8  2018-09-20 04:47:45.236797  2018-09-20 06:36:55.627764   \n",
       "9  2018-09-20 04:47:45.236797  2018-09-20 06:36:55.627764   \n",
       "\n",
       "   start_scan_to_end_scan  is_cutoff  cutoff_factor  \\\n",
       "0                    86.0       True              9   \n",
       "1                    86.0       True             18   \n",
       "2                    86.0       True             27   \n",
       "3                    86.0       True             36   \n",
       "4                    86.0      False             39   \n",
       "5                   109.0       True              9   \n",
       "6                   109.0       True             18   \n",
       "7                   109.0       True             27   \n",
       "8                   109.0       True             36   \n",
       "9                   109.0      False             43   \n",
       "\n",
       "             cutoff_timestamp  actual_distance_to_destination  actual_time  \\\n",
       "0         2018-09-20 04:27:55                       10.435660         14.0   \n",
       "1         2018-09-20 04:17:55                       18.936842         24.0   \n",
       "2  2018-09-20 04:01:19.505586                       27.637279         40.0   \n",
       "3         2018-09-20 03:39:57                       36.118028         62.0   \n",
       "4         2018-09-20 03:33:55                       39.386040         68.0   \n",
       "5         2018-09-20 06:15:58                       10.403038         15.0   \n",
       "6         2018-09-20 05:47:29                       18.045481         44.0   \n",
       "7         2018-09-20 05:25:58                       28.061896         65.0   \n",
       "8         2018-09-20 05:15:56                       38.939167         76.0   \n",
       "9         2018-09-20 04:49:20                       43.595802        102.0   \n",
       "\n",
       "   osrm_time  osrm_distance    factor  segment_actual_time  segment_osrm_time  \\\n",
       "0       11.0        11.9653  1.272727                 14.0               11.0   \n",
       "1       20.0        21.7243  1.200000                 10.0                9.0   \n",
       "2       28.0        32.5395  1.428571                 16.0                7.0   \n",
       "3       40.0        45.5620  1.550000                 21.0               12.0   \n",
       "4       44.0        54.2181  1.545455                  6.0                5.0   \n",
       "5       11.0        12.1171  1.363636                 15.0               11.0   \n",
       "6       17.0        21.2890  2.588235                 28.0                6.0   \n",
       "7       29.0        35.8252  2.241379                 21.0               11.0   \n",
       "8       39.0        47.1900  1.948718                 10.0               10.0   \n",
       "9       45.0        53.2334  2.266667                 26.0                6.0   \n",
       "\n",
       "   segment_osrm_distance  segment_factor  \n",
       "0                11.9653        1.272727  \n",
       "1                 9.7590        1.111111  \n",
       "2                10.8152        2.285714  \n",
       "3                13.0224        1.750000  \n",
       "4                 3.9153        1.200000  \n",
       "5                12.1171        1.363636  \n",
       "6                 9.1719        4.666667  \n",
       "7                14.5362        1.909091  \n",
       "8                11.3648        1.000000  \n",
       "9                 6.0434        4.333333  "
      ]
     },
     "execution_count": 2,
     "metadata": {},
     "output_type": "execute_result"
    }
   ],
   "source": [
    "# Let's check the dataset\n",
    "df.head(10)"
   ]
  },
  {
   "cell_type": "markdown",
   "id": "556f3387",
   "metadata": {
    "papermill": {
     "duration": 0.093386,
     "end_time": "2024-03-29T17:58:57.215411",
     "exception": false,
     "start_time": "2024-03-29T17:58:57.122025",
     "status": "completed"
    },
    "tags": []
   },
   "source": [
    "# Understanding what each column represents:\n",
    "\n",
    "### data - tells whether the data is testing or training data\n",
    "### trip_creation_time – Timestamp of trip creation\n",
    "### route_schedule_uuid – Unique Id for a particular route schedule\n",
    "### route_type – Transportation type\n",
    "### FTL – Full Truck Load: FTL shipments get to the destination sooner, as the truck is making no other pickups or drop-offs \n",
    "### along the way\n",
    "### Carting: Handling system consisting of small vehicles (carts)\n",
    "### trip_uuid - Unique ID given to a particular trip (A trip may include different source and destination centers)\n",
    "### source_center - Source ID of trip origin\n",
    "### source_name - Source Name of trip origin\n",
    "### destination_cente – Destination ID\n",
    "### destination_name – Destination Name\n",
    "### od_start_time – Trip start time\n",
    "### od_end_time – Trip end time\n",
    "### start_scan_to_end_scan – Time taken to deliver from source to destination\n",
    "### is_cutoff – Unknown field\n",
    "### cutoff_factor – Unknown field\n",
    "### cutoff_timestamp – Unknown field\n",
    "### actual_distance_to_destination – Distance in Kms between source and destination warehouse\n",
    "### actual_time – Actual time taken to complete the delivery (Cumulative)\n",
    "### osrm_time – An open-source routing engine time calculator which computes the shortest path between points \n",
    "### in a given map (Includes usual traffic, distance through major and minor roads) and gives the time (Cumulative)\n",
    "### osrm_distance – An open-source routing engine which computes the shortest path \n",
    "### between points in a given map (Includes usual traffic, distance through major and minor roads) (Cumulative)\n",
    "### factor – Unknown field\n",
    "### segment_actual_time – This is a segment time. Time taken by the subset of the package delivery\n",
    "### segment_osrm_time – This is the OSRM segment time. Time taken by the subset of the package delivery\n",
    "### segment_osrm_distance – This is the OSRM distance. Distance covered by subset of the package delivery\n",
    "### segment_factor – Unknown field"
   ]
  },
  {
   "cell_type": "code",
   "execution_count": 3,
   "id": "9c08bd6c",
   "metadata": {
    "execution": {
     "iopub.execute_input": "2024-03-29T17:58:57.420185Z",
     "iopub.status.busy": "2024-03-29T17:58:57.419729Z",
     "iopub.status.idle": "2024-03-29T17:58:57.654506Z",
     "shell.execute_reply": "2024-03-29T17:58:57.652480Z"
    },
    "papermill": {
     "duration": 0.370888,
     "end_time": "2024-03-29T17:58:57.657282",
     "exception": false,
     "start_time": "2024-03-29T17:58:57.286394",
     "status": "completed"
    },
    "tags": []
   },
   "outputs": [
    {
     "name": "stdout",
     "output_type": "stream",
     "text": [
      "<class 'pandas.core.frame.DataFrame'>\n",
      "RangeIndex: 144867 entries, 0 to 144866\n",
      "Data columns (total 24 columns):\n",
      " #   Column                          Non-Null Count   Dtype  \n",
      "---  ------                          --------------   -----  \n",
      " 0   data                            144867 non-null  object \n",
      " 1   trip_creation_time              144867 non-null  object \n",
      " 2   route_schedule_uuid             144867 non-null  object \n",
      " 3   route_type                      144867 non-null  object \n",
      " 4   trip_uuid                       144867 non-null  object \n",
      " 5   source_center                   144867 non-null  object \n",
      " 6   source_name                     144574 non-null  object \n",
      " 7   destination_center              144867 non-null  object \n",
      " 8   destination_name                144606 non-null  object \n",
      " 9   od_start_time                   144867 non-null  object \n",
      " 10  od_end_time                     144867 non-null  object \n",
      " 11  start_scan_to_end_scan          144867 non-null  float64\n",
      " 12  is_cutoff                       144867 non-null  bool   \n",
      " 13  cutoff_factor                   144867 non-null  int64  \n",
      " 14  cutoff_timestamp                144867 non-null  object \n",
      " 15  actual_distance_to_destination  144867 non-null  float64\n",
      " 16  actual_time                     144867 non-null  float64\n",
      " 17  osrm_time                       144867 non-null  float64\n",
      " 18  osrm_distance                   144867 non-null  float64\n",
      " 19  factor                          144867 non-null  float64\n",
      " 20  segment_actual_time             144867 non-null  float64\n",
      " 21  segment_osrm_time               144867 non-null  float64\n",
      " 22  segment_osrm_distance           144867 non-null  float64\n",
      " 23  segment_factor                  144867 non-null  float64\n",
      "dtypes: bool(1), float64(10), int64(1), object(12)\n",
      "memory usage: 25.6+ MB\n"
     ]
    }
   ],
   "source": [
    "# Let' check the datatypes and other info\n",
    "df.info()"
   ]
  },
  {
   "cell_type": "code",
   "execution_count": 4,
   "id": "40ca2f80",
   "metadata": {
    "execution": {
     "iopub.execute_input": "2024-03-29T17:58:57.789932Z",
     "iopub.status.busy": "2024-03-29T17:58:57.789073Z",
     "iopub.status.idle": "2024-03-29T17:58:58.593975Z",
     "shell.execute_reply": "2024-03-29T17:58:58.592569Z"
    },
    "papermill": {
     "duration": 0.874692,
     "end_time": "2024-03-29T17:58:58.596790",
     "exception": false,
     "start_time": "2024-03-29T17:58:57.722098",
     "status": "completed"
    },
    "tags": []
   },
   "outputs": [
    {
     "data": {
      "text/html": [
       "<div>\n",
       "<style scoped>\n",
       "    .dataframe tbody tr th:only-of-type {\n",
       "        vertical-align: middle;\n",
       "    }\n",
       "\n",
       "    .dataframe tbody tr th {\n",
       "        vertical-align: top;\n",
       "    }\n",
       "\n",
       "    .dataframe thead th {\n",
       "        text-align: right;\n",
       "    }\n",
       "</style>\n",
       "<table border=\"1\" class=\"dataframe\">\n",
       "  <thead>\n",
       "    <tr style=\"text-align: right;\">\n",
       "      <th></th>\n",
       "      <th>data</th>\n",
       "      <th>trip_creation_time</th>\n",
       "      <th>route_schedule_uuid</th>\n",
       "      <th>route_type</th>\n",
       "      <th>trip_uuid</th>\n",
       "      <th>source_center</th>\n",
       "      <th>source_name</th>\n",
       "      <th>destination_center</th>\n",
       "      <th>destination_name</th>\n",
       "      <th>od_start_time</th>\n",
       "      <th>od_end_time</th>\n",
       "      <th>start_scan_to_end_scan</th>\n",
       "      <th>is_cutoff</th>\n",
       "      <th>cutoff_factor</th>\n",
       "      <th>cutoff_timestamp</th>\n",
       "      <th>actual_distance_to_destination</th>\n",
       "      <th>actual_time</th>\n",
       "      <th>osrm_time</th>\n",
       "      <th>osrm_distance</th>\n",
       "      <th>factor</th>\n",
       "      <th>segment_actual_time</th>\n",
       "      <th>segment_osrm_time</th>\n",
       "      <th>segment_osrm_distance</th>\n",
       "      <th>segment_factor</th>\n",
       "    </tr>\n",
       "  </thead>\n",
       "  <tbody>\n",
       "    <tr>\n",
       "      <th>count</th>\n",
       "      <td>144867</td>\n",
       "      <td>144867</td>\n",
       "      <td>144867</td>\n",
       "      <td>144867</td>\n",
       "      <td>144867</td>\n",
       "      <td>144867</td>\n",
       "      <td>144574</td>\n",
       "      <td>144867</td>\n",
       "      <td>144606</td>\n",
       "      <td>144867</td>\n",
       "      <td>144867</td>\n",
       "      <td>144867.000000</td>\n",
       "      <td>144867</td>\n",
       "      <td>144867.000000</td>\n",
       "      <td>144867</td>\n",
       "      <td>144867.000000</td>\n",
       "      <td>144867.000000</td>\n",
       "      <td>144867.000000</td>\n",
       "      <td>144867.000000</td>\n",
       "      <td>144867.000000</td>\n",
       "      <td>144867.000000</td>\n",
       "      <td>144867.000000</td>\n",
       "      <td>144867.00000</td>\n",
       "      <td>144867.000000</td>\n",
       "    </tr>\n",
       "    <tr>\n",
       "      <th>unique</th>\n",
       "      <td>2</td>\n",
       "      <td>14817</td>\n",
       "      <td>1504</td>\n",
       "      <td>2</td>\n",
       "      <td>14817</td>\n",
       "      <td>1508</td>\n",
       "      <td>1498</td>\n",
       "      <td>1481</td>\n",
       "      <td>1468</td>\n",
       "      <td>26369</td>\n",
       "      <td>26369</td>\n",
       "      <td>NaN</td>\n",
       "      <td>2</td>\n",
       "      <td>NaN</td>\n",
       "      <td>93180</td>\n",
       "      <td>NaN</td>\n",
       "      <td>NaN</td>\n",
       "      <td>NaN</td>\n",
       "      <td>NaN</td>\n",
       "      <td>NaN</td>\n",
       "      <td>NaN</td>\n",
       "      <td>NaN</td>\n",
       "      <td>NaN</td>\n",
       "      <td>NaN</td>\n",
       "    </tr>\n",
       "    <tr>\n",
       "      <th>top</th>\n",
       "      <td>training</td>\n",
       "      <td>2018-09-28 05:23:15.359220</td>\n",
       "      <td>thanos::sroute:4029a8a2-6c74-4b7e-a6d8-f9e069f...</td>\n",
       "      <td>FTL</td>\n",
       "      <td>trip-153811219535896559</td>\n",
       "      <td>IND000000ACB</td>\n",
       "      <td>Gurgaon_Bilaspur_HB (Haryana)</td>\n",
       "      <td>IND000000ACB</td>\n",
       "      <td>Gurgaon_Bilaspur_HB (Haryana)</td>\n",
       "      <td>2018-09-21 18:37:09.322207</td>\n",
       "      <td>2018-09-24 09:59:15.691618</td>\n",
       "      <td>NaN</td>\n",
       "      <td>True</td>\n",
       "      <td>NaN</td>\n",
       "      <td>2018-09-24 05:19:20</td>\n",
       "      <td>NaN</td>\n",
       "      <td>NaN</td>\n",
       "      <td>NaN</td>\n",
       "      <td>NaN</td>\n",
       "      <td>NaN</td>\n",
       "      <td>NaN</td>\n",
       "      <td>NaN</td>\n",
       "      <td>NaN</td>\n",
       "      <td>NaN</td>\n",
       "    </tr>\n",
       "    <tr>\n",
       "      <th>freq</th>\n",
       "      <td>104858</td>\n",
       "      <td>101</td>\n",
       "      <td>1812</td>\n",
       "      <td>99660</td>\n",
       "      <td>101</td>\n",
       "      <td>23347</td>\n",
       "      <td>23347</td>\n",
       "      <td>15192</td>\n",
       "      <td>15192</td>\n",
       "      <td>81</td>\n",
       "      <td>81</td>\n",
       "      <td>NaN</td>\n",
       "      <td>118749</td>\n",
       "      <td>NaN</td>\n",
       "      <td>40</td>\n",
       "      <td>NaN</td>\n",
       "      <td>NaN</td>\n",
       "      <td>NaN</td>\n",
       "      <td>NaN</td>\n",
       "      <td>NaN</td>\n",
       "      <td>NaN</td>\n",
       "      <td>NaN</td>\n",
       "      <td>NaN</td>\n",
       "      <td>NaN</td>\n",
       "    </tr>\n",
       "    <tr>\n",
       "      <th>mean</th>\n",
       "      <td>NaN</td>\n",
       "      <td>NaN</td>\n",
       "      <td>NaN</td>\n",
       "      <td>NaN</td>\n",
       "      <td>NaN</td>\n",
       "      <td>NaN</td>\n",
       "      <td>NaN</td>\n",
       "      <td>NaN</td>\n",
       "      <td>NaN</td>\n",
       "      <td>NaN</td>\n",
       "      <td>NaN</td>\n",
       "      <td>961.262986</td>\n",
       "      <td>NaN</td>\n",
       "      <td>232.926567</td>\n",
       "      <td>NaN</td>\n",
       "      <td>234.073372</td>\n",
       "      <td>416.927527</td>\n",
       "      <td>213.868272</td>\n",
       "      <td>284.771297</td>\n",
       "      <td>2.120107</td>\n",
       "      <td>36.196111</td>\n",
       "      <td>18.507548</td>\n",
       "      <td>22.82902</td>\n",
       "      <td>2.218368</td>\n",
       "    </tr>\n",
       "    <tr>\n",
       "      <th>std</th>\n",
       "      <td>NaN</td>\n",
       "      <td>NaN</td>\n",
       "      <td>NaN</td>\n",
       "      <td>NaN</td>\n",
       "      <td>NaN</td>\n",
       "      <td>NaN</td>\n",
       "      <td>NaN</td>\n",
       "      <td>NaN</td>\n",
       "      <td>NaN</td>\n",
       "      <td>NaN</td>\n",
       "      <td>NaN</td>\n",
       "      <td>1037.012769</td>\n",
       "      <td>NaN</td>\n",
       "      <td>344.755577</td>\n",
       "      <td>NaN</td>\n",
       "      <td>344.990009</td>\n",
       "      <td>598.103621</td>\n",
       "      <td>308.011085</td>\n",
       "      <td>421.119294</td>\n",
       "      <td>1.715421</td>\n",
       "      <td>53.571158</td>\n",
       "      <td>14.775960</td>\n",
       "      <td>17.86066</td>\n",
       "      <td>4.847530</td>\n",
       "    </tr>\n",
       "    <tr>\n",
       "      <th>min</th>\n",
       "      <td>NaN</td>\n",
       "      <td>NaN</td>\n",
       "      <td>NaN</td>\n",
       "      <td>NaN</td>\n",
       "      <td>NaN</td>\n",
       "      <td>NaN</td>\n",
       "      <td>NaN</td>\n",
       "      <td>NaN</td>\n",
       "      <td>NaN</td>\n",
       "      <td>NaN</td>\n",
       "      <td>NaN</td>\n",
       "      <td>20.000000</td>\n",
       "      <td>NaN</td>\n",
       "      <td>9.000000</td>\n",
       "      <td>NaN</td>\n",
       "      <td>9.000045</td>\n",
       "      <td>9.000000</td>\n",
       "      <td>6.000000</td>\n",
       "      <td>9.008200</td>\n",
       "      <td>0.144000</td>\n",
       "      <td>-244.000000</td>\n",
       "      <td>0.000000</td>\n",
       "      <td>0.00000</td>\n",
       "      <td>-23.444444</td>\n",
       "    </tr>\n",
       "    <tr>\n",
       "      <th>25%</th>\n",
       "      <td>NaN</td>\n",
       "      <td>NaN</td>\n",
       "      <td>NaN</td>\n",
       "      <td>NaN</td>\n",
       "      <td>NaN</td>\n",
       "      <td>NaN</td>\n",
       "      <td>NaN</td>\n",
       "      <td>NaN</td>\n",
       "      <td>NaN</td>\n",
       "      <td>NaN</td>\n",
       "      <td>NaN</td>\n",
       "      <td>161.000000</td>\n",
       "      <td>NaN</td>\n",
       "      <td>22.000000</td>\n",
       "      <td>NaN</td>\n",
       "      <td>23.355874</td>\n",
       "      <td>51.000000</td>\n",
       "      <td>27.000000</td>\n",
       "      <td>29.914700</td>\n",
       "      <td>1.604264</td>\n",
       "      <td>20.000000</td>\n",
       "      <td>11.000000</td>\n",
       "      <td>12.07010</td>\n",
       "      <td>1.347826</td>\n",
       "    </tr>\n",
       "    <tr>\n",
       "      <th>50%</th>\n",
       "      <td>NaN</td>\n",
       "      <td>NaN</td>\n",
       "      <td>NaN</td>\n",
       "      <td>NaN</td>\n",
       "      <td>NaN</td>\n",
       "      <td>NaN</td>\n",
       "      <td>NaN</td>\n",
       "      <td>NaN</td>\n",
       "      <td>NaN</td>\n",
       "      <td>NaN</td>\n",
       "      <td>NaN</td>\n",
       "      <td>449.000000</td>\n",
       "      <td>NaN</td>\n",
       "      <td>66.000000</td>\n",
       "      <td>NaN</td>\n",
       "      <td>66.126571</td>\n",
       "      <td>132.000000</td>\n",
       "      <td>64.000000</td>\n",
       "      <td>78.525800</td>\n",
       "      <td>1.857143</td>\n",
       "      <td>29.000000</td>\n",
       "      <td>17.000000</td>\n",
       "      <td>23.51300</td>\n",
       "      <td>1.684211</td>\n",
       "    </tr>\n",
       "    <tr>\n",
       "      <th>75%</th>\n",
       "      <td>NaN</td>\n",
       "      <td>NaN</td>\n",
       "      <td>NaN</td>\n",
       "      <td>NaN</td>\n",
       "      <td>NaN</td>\n",
       "      <td>NaN</td>\n",
       "      <td>NaN</td>\n",
       "      <td>NaN</td>\n",
       "      <td>NaN</td>\n",
       "      <td>NaN</td>\n",
       "      <td>NaN</td>\n",
       "      <td>1634.000000</td>\n",
       "      <td>NaN</td>\n",
       "      <td>286.000000</td>\n",
       "      <td>NaN</td>\n",
       "      <td>286.708875</td>\n",
       "      <td>513.000000</td>\n",
       "      <td>257.000000</td>\n",
       "      <td>343.193250</td>\n",
       "      <td>2.213483</td>\n",
       "      <td>40.000000</td>\n",
       "      <td>22.000000</td>\n",
       "      <td>27.81325</td>\n",
       "      <td>2.250000</td>\n",
       "    </tr>\n",
       "    <tr>\n",
       "      <th>max</th>\n",
       "      <td>NaN</td>\n",
       "      <td>NaN</td>\n",
       "      <td>NaN</td>\n",
       "      <td>NaN</td>\n",
       "      <td>NaN</td>\n",
       "      <td>NaN</td>\n",
       "      <td>NaN</td>\n",
       "      <td>NaN</td>\n",
       "      <td>NaN</td>\n",
       "      <td>NaN</td>\n",
       "      <td>NaN</td>\n",
       "      <td>7898.000000</td>\n",
       "      <td>NaN</td>\n",
       "      <td>1927.000000</td>\n",
       "      <td>NaN</td>\n",
       "      <td>1927.447705</td>\n",
       "      <td>4532.000000</td>\n",
       "      <td>1686.000000</td>\n",
       "      <td>2326.199100</td>\n",
       "      <td>77.387097</td>\n",
       "      <td>3051.000000</td>\n",
       "      <td>1611.000000</td>\n",
       "      <td>2191.40370</td>\n",
       "      <td>574.250000</td>\n",
       "    </tr>\n",
       "  </tbody>\n",
       "</table>\n",
       "</div>"
      ],
      "text/plain": [
       "            data          trip_creation_time  \\\n",
       "count     144867                      144867   \n",
       "unique         2                       14817   \n",
       "top     training  2018-09-28 05:23:15.359220   \n",
       "freq      104858                         101   \n",
       "mean         NaN                         NaN   \n",
       "std          NaN                         NaN   \n",
       "min          NaN                         NaN   \n",
       "25%          NaN                         NaN   \n",
       "50%          NaN                         NaN   \n",
       "75%          NaN                         NaN   \n",
       "max          NaN                         NaN   \n",
       "\n",
       "                                      route_schedule_uuid route_type  \\\n",
       "count                                              144867     144867   \n",
       "unique                                               1504          2   \n",
       "top     thanos::sroute:4029a8a2-6c74-4b7e-a6d8-f9e069f...        FTL   \n",
       "freq                                                 1812      99660   \n",
       "mean                                                  NaN        NaN   \n",
       "std                                                   NaN        NaN   \n",
       "min                                                   NaN        NaN   \n",
       "25%                                                   NaN        NaN   \n",
       "50%                                                   NaN        NaN   \n",
       "75%                                                   NaN        NaN   \n",
       "max                                                   NaN        NaN   \n",
       "\n",
       "                      trip_uuid source_center                    source_name  \\\n",
       "count                    144867        144867                         144574   \n",
       "unique                    14817          1508                           1498   \n",
       "top     trip-153811219535896559  IND000000ACB  Gurgaon_Bilaspur_HB (Haryana)   \n",
       "freq                        101         23347                          23347   \n",
       "mean                        NaN           NaN                            NaN   \n",
       "std                         NaN           NaN                            NaN   \n",
       "min                         NaN           NaN                            NaN   \n",
       "25%                         NaN           NaN                            NaN   \n",
       "50%                         NaN           NaN                            NaN   \n",
       "75%                         NaN           NaN                            NaN   \n",
       "max                         NaN           NaN                            NaN   \n",
       "\n",
       "       destination_center               destination_name  \\\n",
       "count              144867                         144606   \n",
       "unique               1481                           1468   \n",
       "top          IND000000ACB  Gurgaon_Bilaspur_HB (Haryana)   \n",
       "freq                15192                          15192   \n",
       "mean                  NaN                            NaN   \n",
       "std                   NaN                            NaN   \n",
       "min                   NaN                            NaN   \n",
       "25%                   NaN                            NaN   \n",
       "50%                   NaN                            NaN   \n",
       "75%                   NaN                            NaN   \n",
       "max                   NaN                            NaN   \n",
       "\n",
       "                     od_start_time                 od_end_time  \\\n",
       "count                       144867                      144867   \n",
       "unique                       26369                       26369   \n",
       "top     2018-09-21 18:37:09.322207  2018-09-24 09:59:15.691618   \n",
       "freq                            81                          81   \n",
       "mean                           NaN                         NaN   \n",
       "std                            NaN                         NaN   \n",
       "min                            NaN                         NaN   \n",
       "25%                            NaN                         NaN   \n",
       "50%                            NaN                         NaN   \n",
       "75%                            NaN                         NaN   \n",
       "max                            NaN                         NaN   \n",
       "\n",
       "        start_scan_to_end_scan is_cutoff  cutoff_factor     cutoff_timestamp  \\\n",
       "count            144867.000000    144867  144867.000000               144867   \n",
       "unique                     NaN         2            NaN                93180   \n",
       "top                        NaN      True            NaN  2018-09-24 05:19:20   \n",
       "freq                       NaN    118749            NaN                   40   \n",
       "mean                961.262986       NaN     232.926567                  NaN   \n",
       "std                1037.012769       NaN     344.755577                  NaN   \n",
       "min                  20.000000       NaN       9.000000                  NaN   \n",
       "25%                 161.000000       NaN      22.000000                  NaN   \n",
       "50%                 449.000000       NaN      66.000000                  NaN   \n",
       "75%                1634.000000       NaN     286.000000                  NaN   \n",
       "max                7898.000000       NaN    1927.000000                  NaN   \n",
       "\n",
       "        actual_distance_to_destination    actual_time      osrm_time  \\\n",
       "count                    144867.000000  144867.000000  144867.000000   \n",
       "unique                             NaN            NaN            NaN   \n",
       "top                                NaN            NaN            NaN   \n",
       "freq                               NaN            NaN            NaN   \n",
       "mean                        234.073372     416.927527     213.868272   \n",
       "std                         344.990009     598.103621     308.011085   \n",
       "min                           9.000045       9.000000       6.000000   \n",
       "25%                          23.355874      51.000000      27.000000   \n",
       "50%                          66.126571     132.000000      64.000000   \n",
       "75%                         286.708875     513.000000     257.000000   \n",
       "max                        1927.447705    4532.000000    1686.000000   \n",
       "\n",
       "        osrm_distance         factor  segment_actual_time  segment_osrm_time  \\\n",
       "count   144867.000000  144867.000000        144867.000000      144867.000000   \n",
       "unique            NaN            NaN                  NaN                NaN   \n",
       "top               NaN            NaN                  NaN                NaN   \n",
       "freq              NaN            NaN                  NaN                NaN   \n",
       "mean       284.771297       2.120107            36.196111          18.507548   \n",
       "std        421.119294       1.715421            53.571158          14.775960   \n",
       "min          9.008200       0.144000          -244.000000           0.000000   \n",
       "25%         29.914700       1.604264            20.000000          11.000000   \n",
       "50%         78.525800       1.857143            29.000000          17.000000   \n",
       "75%        343.193250       2.213483            40.000000          22.000000   \n",
       "max       2326.199100      77.387097          3051.000000        1611.000000   \n",
       "\n",
       "        segment_osrm_distance  segment_factor  \n",
       "count            144867.00000   144867.000000  \n",
       "unique                    NaN             NaN  \n",
       "top                       NaN             NaN  \n",
       "freq                      NaN             NaN  \n",
       "mean                 22.82902        2.218368  \n",
       "std                  17.86066        4.847530  \n",
       "min                   0.00000      -23.444444  \n",
       "25%                  12.07010        1.347826  \n",
       "50%                  23.51300        1.684211  \n",
       "75%                  27.81325        2.250000  \n",
       "max                2191.40370      574.250000  "
      ]
     },
     "execution_count": 4,
     "metadata": {},
     "output_type": "execute_result"
    }
   ],
   "source": [
    "# Let's see some statistical summary of the data\n",
    "df.describe(include='all')"
   ]
  },
  {
   "cell_type": "code",
   "execution_count": 5,
   "id": "e1781733",
   "metadata": {
    "execution": {
     "iopub.execute_input": "2024-03-29T17:58:58.732919Z",
     "iopub.status.busy": "2024-03-29T17:58:58.731665Z",
     "iopub.status.idle": "2024-03-29T17:58:58.737840Z",
     "shell.execute_reply": "2024-03-29T17:58:58.736483Z"
    },
    "papermill": {
     "duration": 0.076999,
     "end_time": "2024-03-29T17:58:58.740233",
     "exception": false,
     "start_time": "2024-03-29T17:58:58.663234",
     "status": "completed"
    },
    "tags": []
   },
   "outputs": [],
   "source": [
    "# Just keeping an extra dataframe for safety, incase something messes up in df\n",
    "df_2=df"
   ]
  },
  {
   "cell_type": "code",
   "execution_count": 6,
   "id": "18443c21",
   "metadata": {
    "execution": {
     "iopub.execute_input": "2024-03-29T17:58:58.873082Z",
     "iopub.status.busy": "2024-03-29T17:58:58.872611Z",
     "iopub.status.idle": "2024-03-29T17:58:58.881994Z",
     "shell.execute_reply": "2024-03-29T17:58:58.880943Z"
    },
    "papermill": {
     "duration": 0.078396,
     "end_time": "2024-03-29T17:58:58.884390",
     "exception": false,
     "start_time": "2024-03-29T17:58:58.805994",
     "status": "completed"
    },
    "tags": []
   },
   "outputs": [
    {
     "data": {
      "text/plain": [
       "0         2018-09-20 02:35:36.476840\n",
       "1         2018-09-20 02:35:36.476840\n",
       "2         2018-09-20 02:35:36.476840\n",
       "3         2018-09-20 02:35:36.476840\n",
       "4         2018-09-20 02:35:36.476840\n",
       "                     ...            \n",
       "144862    2018-09-20 16:24:28.436231\n",
       "144863    2018-09-20 16:24:28.436231\n",
       "144864    2018-09-20 16:24:28.436231\n",
       "144865    2018-09-20 16:24:28.436231\n",
       "144866    2018-09-20 16:24:28.436231\n",
       "Name: trip_creation_time, Length: 144867, dtype: object"
      ]
     },
     "execution_count": 6,
     "metadata": {},
     "output_type": "execute_result"
    }
   ],
   "source": [
    "df['trip_creation_time']"
   ]
  },
  {
   "cell_type": "code",
   "execution_count": 7,
   "id": "b0c0d1ce",
   "metadata": {
    "execution": {
     "iopub.execute_input": "2024-03-29T17:58:59.020318Z",
     "iopub.status.busy": "2024-03-29T17:58:59.019886Z",
     "iopub.status.idle": "2024-03-29T17:58:59.068606Z",
     "shell.execute_reply": "2024-03-29T17:58:59.067270Z"
    },
    "papermill": {
     "duration": 0.120496,
     "end_time": "2024-03-29T17:58:59.071445",
     "exception": false,
     "start_time": "2024-03-29T17:58:58.950949",
     "status": "completed"
    },
    "tags": []
   },
   "outputs": [],
   "source": [
    "# As we can see trip_creation_time is of object type and has microseconds also in the time\n",
    "# Let's convert it into datetime datatype without microseconds\n",
    "df['trip_creation_time']=pd.to_datetime(df['trip_creation_time'])"
   ]
  },
  {
   "cell_type": "code",
   "execution_count": 8,
   "id": "25abf419",
   "metadata": {
    "execution": {
     "iopub.execute_input": "2024-03-29T17:58:59.207389Z",
     "iopub.status.busy": "2024-03-29T17:58:59.206462Z",
     "iopub.status.idle": "2024-03-29T17:58:59.216153Z",
     "shell.execute_reply": "2024-03-29T17:58:59.214990Z"
    },
    "papermill": {
     "duration": 0.080025,
     "end_time": "2024-03-29T17:58:59.218552",
     "exception": false,
     "start_time": "2024-03-29T17:58:59.138527",
     "status": "completed"
    },
    "tags": []
   },
   "outputs": [
    {
     "data": {
      "text/plain": [
       "0        2018-09-20 02:35:36.476840\n",
       "1        2018-09-20 02:35:36.476840\n",
       "2        2018-09-20 02:35:36.476840\n",
       "3        2018-09-20 02:35:36.476840\n",
       "4        2018-09-20 02:35:36.476840\n",
       "                    ...            \n",
       "144862   2018-09-20 16:24:28.436231\n",
       "144863   2018-09-20 16:24:28.436231\n",
       "144864   2018-09-20 16:24:28.436231\n",
       "144865   2018-09-20 16:24:28.436231\n",
       "144866   2018-09-20 16:24:28.436231\n",
       "Name: trip_creation_time, Length: 144867, dtype: datetime64[ns]"
      ]
     },
     "execution_count": 8,
     "metadata": {},
     "output_type": "execute_result"
    }
   ],
   "source": [
    "df['trip_creation_time']"
   ]
  },
  {
   "cell_type": "code",
   "execution_count": 9,
   "id": "db6ff3de",
   "metadata": {
    "execution": {
     "iopub.execute_input": "2024-03-29T17:58:59.353394Z",
     "iopub.status.busy": "2024-03-29T17:58:59.353027Z",
     "iopub.status.idle": "2024-03-29T17:58:59.697983Z",
     "shell.execute_reply": "2024-03-29T17:58:59.696877Z"
    },
    "papermill": {
     "duration": 0.415974,
     "end_time": "2024-03-29T17:58:59.700866",
     "exception": false,
     "start_time": "2024-03-29T17:58:59.284892",
     "status": "completed"
    },
    "tags": []
   },
   "outputs": [],
   "source": [
    "# The above has been converted to datetime, but still we can see microseconds\n",
    "# Let's remove those also\n",
    "\n",
    "df['trip_creation_time']=pd.to_datetime(df['trip_creation_time'].dt.strftime('%Y-%m-%d %H:%M:%S'),format='%Y-%m-%d %H:%M:%S')"
   ]
  },
  {
   "cell_type": "code",
   "execution_count": 10,
   "id": "d6b0b895",
   "metadata": {
    "execution": {
     "iopub.execute_input": "2024-03-29T17:58:59.836180Z",
     "iopub.status.busy": "2024-03-29T17:58:59.835328Z",
     "iopub.status.idle": "2024-03-29T17:58:59.844226Z",
     "shell.execute_reply": "2024-03-29T17:58:59.843251Z"
    },
    "papermill": {
     "duration": 0.078742,
     "end_time": "2024-03-29T17:58:59.846461",
     "exception": false,
     "start_time": "2024-03-29T17:58:59.767719",
     "status": "completed"
    },
    "tags": []
   },
   "outputs": [
    {
     "data": {
      "text/plain": [
       "0        2018-09-20 02:35:36\n",
       "1        2018-09-20 02:35:36\n",
       "2        2018-09-20 02:35:36\n",
       "3        2018-09-20 02:35:36\n",
       "4        2018-09-20 02:35:36\n",
       "                 ...        \n",
       "144862   2018-09-20 16:24:28\n",
       "144863   2018-09-20 16:24:28\n",
       "144864   2018-09-20 16:24:28\n",
       "144865   2018-09-20 16:24:28\n",
       "144866   2018-09-20 16:24:28\n",
       "Name: trip_creation_time, Length: 144867, dtype: datetime64[ns]"
      ]
     },
     "execution_count": 10,
     "metadata": {},
     "output_type": "execute_result"
    }
   ],
   "source": [
    "df['trip_creation_time']"
   ]
  },
  {
   "cell_type": "code",
   "execution_count": 11,
   "id": "129b6cab",
   "metadata": {
    "execution": {
     "iopub.execute_input": "2024-03-29T17:58:59.982158Z",
     "iopub.status.busy": "2024-03-29T17:58:59.981452Z",
     "iopub.status.idle": "2024-03-29T17:59:00.379518Z",
     "shell.execute_reply": "2024-03-29T17:59:00.378302Z"
    },
    "papermill": {
     "duration": 0.469853,
     "end_time": "2024-03-29T17:59:00.382457",
     "exception": false,
     "start_time": "2024-03-29T17:58:59.912604",
     "status": "completed"
    },
    "tags": []
   },
   "outputs": [],
   "source": [
    "# Similarly peroforming the same action on other datetime columns\n",
    "df['od_start_time']=pd.to_datetime(df['od_start_time'])\n",
    "df['od_start_time']=pd.to_datetime(df['od_start_time'].dt.strftime('%Y-%m-%d %H:%M:%S'),format='%Y-%m-%d %H:%M:%S')"
   ]
  },
  {
   "cell_type": "code",
   "execution_count": 12,
   "id": "fef1ab86",
   "metadata": {
    "execution": {
     "iopub.execute_input": "2024-03-29T17:59:00.516858Z",
     "iopub.status.busy": "2024-03-29T17:59:00.516415Z",
     "iopub.status.idle": "2024-03-29T17:59:00.524935Z",
     "shell.execute_reply": "2024-03-29T17:59:00.524092Z"
    },
    "papermill": {
     "duration": 0.077957,
     "end_time": "2024-03-29T17:59:00.526993",
     "exception": false,
     "start_time": "2024-03-29T17:59:00.449036",
     "status": "completed"
    },
    "tags": []
   },
   "outputs": [
    {
     "data": {
      "text/plain": [
       "0        2018-09-20 03:21:32\n",
       "1        2018-09-20 03:21:32\n",
       "2        2018-09-20 03:21:32\n",
       "3        2018-09-20 03:21:32\n",
       "4        2018-09-20 03:21:32\n",
       "                 ...        \n",
       "144862   2018-09-20 16:24:28\n",
       "144863   2018-09-20 16:24:28\n",
       "144864   2018-09-20 16:24:28\n",
       "144865   2018-09-20 16:24:28\n",
       "144866   2018-09-20 16:24:28\n",
       "Name: od_start_time, Length: 144867, dtype: datetime64[ns]"
      ]
     },
     "execution_count": 12,
     "metadata": {},
     "output_type": "execute_result"
    }
   ],
   "source": [
    "df['od_start_time']"
   ]
  },
  {
   "cell_type": "code",
   "execution_count": 13,
   "id": "b96f6f79",
   "metadata": {
    "execution": {
     "iopub.execute_input": "2024-03-29T17:59:00.661809Z",
     "iopub.status.busy": "2024-03-29T17:59:00.661367Z",
     "iopub.status.idle": "2024-03-29T17:59:01.062265Z",
     "shell.execute_reply": "2024-03-29T17:59:01.061074Z"
    },
    "papermill": {
     "duration": 0.471694,
     "end_time": "2024-03-29T17:59:01.064991",
     "exception": false,
     "start_time": "2024-03-29T17:59:00.593297",
     "status": "completed"
    },
    "tags": []
   },
   "outputs": [],
   "source": [
    "df['od_end_time']=pd.to_datetime(df['od_end_time'])\n",
    "df['od_end_time']=pd.to_datetime(df['od_end_time'].dt.strftime('%Y-%m-%d %H:%M:%S'),format='%Y-%m-%d %H:%M:%S')"
   ]
  },
  {
   "cell_type": "code",
   "execution_count": 14,
   "id": "b28f8150",
   "metadata": {
    "execution": {
     "iopub.execute_input": "2024-03-29T17:59:01.203030Z",
     "iopub.status.busy": "2024-03-29T17:59:01.202599Z",
     "iopub.status.idle": "2024-03-29T17:59:01.999555Z",
     "shell.execute_reply": "2024-03-29T17:59:01.997781Z"
    },
    "papermill": {
     "duration": 0.868808,
     "end_time": "2024-03-29T17:59:02.001982",
     "exception": true,
     "start_time": "2024-03-29T17:59:01.133174",
     "status": "failed"
    },
    "tags": []
   },
   "outputs": [
    {
     "ename": "ValueError",
     "evalue": "unconverted data remains when parsing with format \"%Y-%m-%d %H:%M:%S\": \".505586\", at position 2. You might want to try:\n    - passing `format` if your strings have a consistent format;\n    - passing `format='ISO8601'` if your strings are all ISO8601 but not necessarily in exactly the same format;\n    - passing `format='mixed'`, and the format will be inferred for each element individually. You might want to use `dayfirst` alongside this.",
     "output_type": "error",
     "traceback": [
      "\u001b[0;31m---------------------------------------------------------------------------\u001b[0m",
      "\u001b[0;31mValueError\u001b[0m                                Traceback (most recent call last)",
      "Cell \u001b[0;32mIn[14], line 1\u001b[0m\n\u001b[0;32m----> 1\u001b[0m df[\u001b[38;5;124m'\u001b[39m\u001b[38;5;124mcutoff_timestamp\u001b[39m\u001b[38;5;124m'\u001b[39m]\u001b[38;5;241m=\u001b[39m\u001b[43mpd\u001b[49m\u001b[38;5;241;43m.\u001b[39;49m\u001b[43mto_datetime\u001b[49m\u001b[43m(\u001b[49m\u001b[43mdf\u001b[49m\u001b[43m[\u001b[49m\u001b[38;5;124;43m'\u001b[39;49m\u001b[38;5;124;43mcutoff_timestamp\u001b[39;49m\u001b[38;5;124;43m'\u001b[39;49m\u001b[43m]\u001b[49m\u001b[43m)\u001b[49m\n",
      "File \u001b[0;32m/opt/conda/lib/python3.10/site-packages/pandas/core/tools/datetimes.py:1067\u001b[0m, in \u001b[0;36mto_datetime\u001b[0;34m(arg, errors, dayfirst, yearfirst, utc, format, exact, unit, infer_datetime_format, origin, cache)\u001b[0m\n\u001b[1;32m   1065\u001b[0m         result \u001b[38;5;241m=\u001b[39m arg\u001b[38;5;241m.\u001b[39mmap(cache_array)\n\u001b[1;32m   1066\u001b[0m     \u001b[38;5;28;01melse\u001b[39;00m:\n\u001b[0;32m-> 1067\u001b[0m         values \u001b[38;5;241m=\u001b[39m \u001b[43mconvert_listlike\u001b[49m\u001b[43m(\u001b[49m\u001b[43marg\u001b[49m\u001b[38;5;241;43m.\u001b[39;49m\u001b[43m_values\u001b[49m\u001b[43m,\u001b[49m\u001b[43m \u001b[49m\u001b[38;5;28;43mformat\u001b[39;49m\u001b[43m)\u001b[49m\n\u001b[1;32m   1068\u001b[0m         result \u001b[38;5;241m=\u001b[39m arg\u001b[38;5;241m.\u001b[39m_constructor(values, index\u001b[38;5;241m=\u001b[39marg\u001b[38;5;241m.\u001b[39mindex, name\u001b[38;5;241m=\u001b[39marg\u001b[38;5;241m.\u001b[39mname)\n\u001b[1;32m   1069\u001b[0m \u001b[38;5;28;01melif\u001b[39;00m \u001b[38;5;28misinstance\u001b[39m(arg, (ABCDataFrame, abc\u001b[38;5;241m.\u001b[39mMutableMapping)):\n",
      "File \u001b[0;32m/opt/conda/lib/python3.10/site-packages/pandas/core/tools/datetimes.py:433\u001b[0m, in \u001b[0;36m_convert_listlike_datetimes\u001b[0;34m(arg, format, name, utc, unit, errors, dayfirst, yearfirst, exact)\u001b[0m\n\u001b[1;32m    431\u001b[0m \u001b[38;5;66;03m# `format` could be inferred, or user didn't ask for mixed-format parsing.\u001b[39;00m\n\u001b[1;32m    432\u001b[0m \u001b[38;5;28;01mif\u001b[39;00m \u001b[38;5;28mformat\u001b[39m \u001b[38;5;129;01mis\u001b[39;00m \u001b[38;5;129;01mnot\u001b[39;00m \u001b[38;5;28;01mNone\u001b[39;00m \u001b[38;5;129;01mand\u001b[39;00m \u001b[38;5;28mformat\u001b[39m \u001b[38;5;241m!=\u001b[39m \u001b[38;5;124m\"\u001b[39m\u001b[38;5;124mmixed\u001b[39m\u001b[38;5;124m\"\u001b[39m:\n\u001b[0;32m--> 433\u001b[0m     \u001b[38;5;28;01mreturn\u001b[39;00m \u001b[43m_array_strptime_with_fallback\u001b[49m\u001b[43m(\u001b[49m\u001b[43marg\u001b[49m\u001b[43m,\u001b[49m\u001b[43m \u001b[49m\u001b[43mname\u001b[49m\u001b[43m,\u001b[49m\u001b[43m \u001b[49m\u001b[43mutc\u001b[49m\u001b[43m,\u001b[49m\u001b[43m \u001b[49m\u001b[38;5;28;43mformat\u001b[39;49m\u001b[43m,\u001b[49m\u001b[43m \u001b[49m\u001b[43mexact\u001b[49m\u001b[43m,\u001b[49m\u001b[43m \u001b[49m\u001b[43merrors\u001b[49m\u001b[43m)\u001b[49m\n\u001b[1;32m    435\u001b[0m result, tz_parsed \u001b[38;5;241m=\u001b[39m objects_to_datetime64(\n\u001b[1;32m    436\u001b[0m     arg,\n\u001b[1;32m    437\u001b[0m     dayfirst\u001b[38;5;241m=\u001b[39mdayfirst,\n\u001b[0;32m   (...)\u001b[0m\n\u001b[1;32m    441\u001b[0m     allow_object\u001b[38;5;241m=\u001b[39m\u001b[38;5;28;01mTrue\u001b[39;00m,\n\u001b[1;32m    442\u001b[0m )\n\u001b[1;32m    444\u001b[0m \u001b[38;5;28;01mif\u001b[39;00m tz_parsed \u001b[38;5;129;01mis\u001b[39;00m \u001b[38;5;129;01mnot\u001b[39;00m \u001b[38;5;28;01mNone\u001b[39;00m:\n\u001b[1;32m    445\u001b[0m     \u001b[38;5;66;03m# We can take a shortcut since the datetime64 numpy array\u001b[39;00m\n\u001b[1;32m    446\u001b[0m     \u001b[38;5;66;03m# is in UTC\u001b[39;00m\n",
      "File \u001b[0;32m/opt/conda/lib/python3.10/site-packages/pandas/core/tools/datetimes.py:467\u001b[0m, in \u001b[0;36m_array_strptime_with_fallback\u001b[0;34m(arg, name, utc, fmt, exact, errors)\u001b[0m\n\u001b[1;32m    456\u001b[0m \u001b[38;5;28;01mdef\u001b[39;00m \u001b[38;5;21m_array_strptime_with_fallback\u001b[39m(\n\u001b[1;32m    457\u001b[0m     arg,\n\u001b[1;32m    458\u001b[0m     name,\n\u001b[0;32m   (...)\u001b[0m\n\u001b[1;32m    462\u001b[0m     errors: \u001b[38;5;28mstr\u001b[39m,\n\u001b[1;32m    463\u001b[0m ) \u001b[38;5;241m-\u001b[39m\u001b[38;5;241m>\u001b[39m Index:\n\u001b[1;32m    464\u001b[0m \u001b[38;5;250m    \u001b[39m\u001b[38;5;124;03m\"\"\"\u001b[39;00m\n\u001b[1;32m    465\u001b[0m \u001b[38;5;124;03m    Call array_strptime, with fallback behavior depending on 'errors'.\u001b[39;00m\n\u001b[1;32m    466\u001b[0m \u001b[38;5;124;03m    \"\"\"\u001b[39;00m\n\u001b[0;32m--> 467\u001b[0m     result, tz_out \u001b[38;5;241m=\u001b[39m \u001b[43marray_strptime\u001b[49m\u001b[43m(\u001b[49m\u001b[43marg\u001b[49m\u001b[43m,\u001b[49m\u001b[43m \u001b[49m\u001b[43mfmt\u001b[49m\u001b[43m,\u001b[49m\u001b[43m \u001b[49m\u001b[43mexact\u001b[49m\u001b[38;5;241;43m=\u001b[39;49m\u001b[43mexact\u001b[49m\u001b[43m,\u001b[49m\u001b[43m \u001b[49m\u001b[43merrors\u001b[49m\u001b[38;5;241;43m=\u001b[39;49m\u001b[43merrors\u001b[49m\u001b[43m,\u001b[49m\u001b[43m \u001b[49m\u001b[43mutc\u001b[49m\u001b[38;5;241;43m=\u001b[39;49m\u001b[43mutc\u001b[49m\u001b[43m)\u001b[49m\n\u001b[1;32m    468\u001b[0m     \u001b[38;5;28;01mif\u001b[39;00m tz_out \u001b[38;5;129;01mis\u001b[39;00m \u001b[38;5;129;01mnot\u001b[39;00m \u001b[38;5;28;01mNone\u001b[39;00m:\n\u001b[1;32m    469\u001b[0m         unit \u001b[38;5;241m=\u001b[39m np\u001b[38;5;241m.\u001b[39mdatetime_data(result\u001b[38;5;241m.\u001b[39mdtype)[\u001b[38;5;241m0\u001b[39m]\n",
      "File \u001b[0;32mstrptime.pyx:501\u001b[0m, in \u001b[0;36mpandas._libs.tslibs.strptime.array_strptime\u001b[0;34m()\u001b[0m\n",
      "File \u001b[0;32mstrptime.pyx:451\u001b[0m, in \u001b[0;36mpandas._libs.tslibs.strptime.array_strptime\u001b[0;34m()\u001b[0m\n",
      "File \u001b[0;32mstrptime.pyx:587\u001b[0m, in \u001b[0;36mpandas._libs.tslibs.strptime._parse_with_format\u001b[0;34m()\u001b[0m\n",
      "\u001b[0;31mValueError\u001b[0m: unconverted data remains when parsing with format \"%Y-%m-%d %H:%M:%S\": \".505586\", at position 2. You might want to try:\n    - passing `format` if your strings have a consistent format;\n    - passing `format='ISO8601'` if your strings are all ISO8601 but not necessarily in exactly the same format;\n    - passing `format='mixed'`, and the format will be inferred for each element individually. You might want to use `dayfirst` alongside this."
     ]
    }
   ],
   "source": [
    "df['cutoff_timestamp']=pd.to_datetime(df['cutoff_timestamp'])"
   ]
  },
  {
   "cell_type": "code",
   "execution_count": null,
   "id": "49e25c79",
   "metadata": {
    "execution": {
     "iopub.status.busy": "2024-03-29T17:47:59.149607Z",
     "iopub.status.idle": "2024-03-29T17:47:59.150776Z",
     "shell.execute_reply": "2024-03-29T17:47:59.150565Z",
     "shell.execute_reply.started": "2024-03-29T17:47:59.150543Z"
    },
    "papermill": {
     "duration": null,
     "end_time": null,
     "exception": null,
     "start_time": null,
     "status": "pending"
    },
    "tags": []
   },
   "outputs": [],
   "source": [
    "# As we can see the above error, it is clear that date is in mixed format in cutoff_timestamp column"
   ]
  },
  {
   "cell_type": "code",
   "execution_count": null,
   "id": "d58bb8e5",
   "metadata": {
    "execution": {
     "iopub.status.busy": "2024-03-29T17:47:59.152143Z",
     "iopub.status.idle": "2024-03-29T17:47:59.152594Z",
     "shell.execute_reply": "2024-03-29T17:47:59.152424Z",
     "shell.execute_reply.started": "2024-03-29T17:47:59.152407Z"
    },
    "papermill": {
     "duration": null,
     "end_time": null,
     "exception": null,
     "start_time": null,
     "status": "pending"
    },
    "tags": []
   },
   "outputs": [],
   "source": [
    "df['cutoff_timestamp']"
   ]
  },
  {
   "cell_type": "code",
   "execution_count": null,
   "id": "619d3472",
   "metadata": {
    "execution": {
     "iopub.status.busy": "2024-03-29T17:47:59.153988Z",
     "iopub.status.idle": "2024-03-29T17:47:59.154735Z",
     "shell.execute_reply": "2024-03-29T17:47:59.154555Z",
     "shell.execute_reply.started": "2024-03-29T17:47:59.154537Z"
    },
    "papermill": {
     "duration": null,
     "end_time": null,
     "exception": null,
     "start_time": null,
     "status": "pending"
    },
    "tags": []
   },
   "outputs": [],
   "source": [
    "# Let me check how mnay rows are in format %Y-%m-%d %H:%M:%S.mmmmmmmmm These are python regular expressions\n",
    "df[df['cutoff_timestamp'].str.match(r'\\d{4}-\\d{2}-\\d{2} \\d{2}:\\d{2}:\\d{2}\\.\\d{6}$')]['cutoff_timestamp']"
   ]
  },
  {
   "cell_type": "code",
   "execution_count": null,
   "id": "5d8feee4",
   "metadata": {
    "execution": {
     "iopub.status.busy": "2024-03-29T17:47:59.156351Z",
     "iopub.status.idle": "2024-03-29T17:47:59.156977Z",
     "shell.execute_reply": "2024-03-29T17:47:59.156798Z",
     "shell.execute_reply.started": "2024-03-29T17:47:59.156780Z"
    },
    "papermill": {
     "duration": null,
     "end_time": null,
     "exception": null,
     "start_time": null,
     "status": "pending"
    },
    "tags": []
   },
   "outputs": [],
   "source": [
    "len(df[df['cutoff_timestamp'].str.match(r'\\d{4}-\\d{2}-\\d{2} \\d{2}:\\d{2}:\\d{2}\\.\\d{6}$')]['cutoff_timestamp'])"
   ]
  },
  {
   "cell_type": "code",
   "execution_count": null,
   "id": "9e90ca78",
   "metadata": {
    "execution": {
     "iopub.status.busy": "2024-03-29T17:47:59.158371Z",
     "iopub.status.idle": "2024-03-29T17:47:59.159019Z",
     "shell.execute_reply": "2024-03-29T17:47:59.158843Z",
     "shell.execute_reply.started": "2024-03-29T17:47:59.158825Z"
    },
    "papermill": {
     "duration": null,
     "end_time": null,
     "exception": null,
     "start_time": null,
     "status": "pending"
    },
    "tags": []
   },
   "outputs": [],
   "source": [
    "# Since there are less number of rows we can drop these\n",
    "# I will not drop them as it is, I will use infer_date_format in pd.to_datetime and then if the format is not clear it will\n",
    "# be caught as NAT using error='coerce'\n",
    "\n",
    "df['cutoff_timestamp']=pd.to_datetime(df['cutoff_timestamp'],infer_datetime_format=True, errors='coerce')"
   ]
  },
  {
   "cell_type": "code",
   "execution_count": null,
   "id": "81b8b9b9",
   "metadata": {
    "execution": {
     "iopub.status.busy": "2024-03-29T17:47:59.160281Z",
     "iopub.status.idle": "2024-03-29T17:47:59.161041Z",
     "shell.execute_reply": "2024-03-29T17:47:59.160847Z",
     "shell.execute_reply.started": "2024-03-29T17:47:59.160828Z"
    },
    "papermill": {
     "duration": null,
     "end_time": null,
     "exception": null,
     "start_time": null,
     "status": "pending"
    },
    "tags": []
   },
   "outputs": [],
   "source": [
    "df[df['cutoff_timestamp'].isna()]"
   ]
  },
  {
   "cell_type": "code",
   "execution_count": null,
   "id": "7084cf91",
   "metadata": {
    "execution": {
     "iopub.status.busy": "2024-03-29T17:47:59.162033Z",
     "iopub.status.idle": "2024-03-29T17:47:59.162393Z",
     "shell.execute_reply": "2024-03-29T17:47:59.162242Z",
     "shell.execute_reply.started": "2024-03-29T17:47:59.162228Z"
    },
    "papermill": {
     "duration": null,
     "end_time": null,
     "exception": null,
     "start_time": null,
     "status": "pending"
    },
    "tags": []
   },
   "outputs": [],
   "source": [
    "# Now dropping all null values of cutff_timestamp\n",
    "df=df[~df['cutoff_timestamp'].isna()]"
   ]
  },
  {
   "cell_type": "code",
   "execution_count": null,
   "id": "e2c72c95",
   "metadata": {
    "execution": {
     "iopub.status.busy": "2024-03-29T17:47:59.164560Z",
     "iopub.status.idle": "2024-03-29T17:47:59.164975Z",
     "shell.execute_reply": "2024-03-29T17:47:59.164808Z",
     "shell.execute_reply.started": "2024-03-29T17:47:59.164791Z"
    },
    "papermill": {
     "duration": null,
     "end_time": null,
     "exception": null,
     "start_time": null,
     "status": "pending"
    },
    "tags": []
   },
   "outputs": [],
   "source": [
    "df.shape"
   ]
  },
  {
   "cell_type": "code",
   "execution_count": null,
   "id": "039f0ba1",
   "metadata": {
    "execution": {
     "iopub.status.busy": "2024-03-29T17:47:59.166647Z",
     "iopub.status.idle": "2024-03-29T17:47:59.167047Z",
     "shell.execute_reply": "2024-03-29T17:47:59.166873Z",
     "shell.execute_reply.started": "2024-03-29T17:47:59.166857Z"
    },
    "papermill": {
     "duration": null,
     "end_time": null,
     "exception": null,
     "start_time": null,
     "status": "pending"
    },
    "tags": []
   },
   "outputs": [],
   "source": [
    "df.head(20)"
   ]
  },
  {
   "cell_type": "code",
   "execution_count": null,
   "id": "6ddf1754",
   "metadata": {
    "execution": {
     "iopub.status.busy": "2024-03-29T17:47:59.168340Z",
     "iopub.status.idle": "2024-03-29T17:47:59.168703Z",
     "shell.execute_reply": "2024-03-29T17:47:59.168532Z",
     "shell.execute_reply.started": "2024-03-29T17:47:59.168518Z"
    },
    "papermill": {
     "duration": null,
     "end_time": null,
     "exception": null,
     "start_time": null,
     "status": "pending"
    },
    "tags": []
   },
   "outputs": [],
   "source": [
    "import warnings\n",
    "warnings.filterwarnings('ignore')"
   ]
  },
  {
   "cell_type": "markdown",
   "id": "69d48cab",
   "metadata": {
    "papermill": {
     "duration": null,
     "end_time": null,
     "exception": null,
     "start_time": null,
     "status": "pending"
    },
    "tags": []
   },
   "source": [
    "### Let's see what months data is available"
   ]
  },
  {
   "cell_type": "code",
   "execution_count": null,
   "id": "9adbf66f",
   "metadata": {
    "execution": {
     "iopub.status.busy": "2024-03-29T17:47:59.169904Z",
     "iopub.status.idle": "2024-03-29T17:47:59.170610Z",
     "shell.execute_reply": "2024-03-29T17:47:59.170431Z",
     "shell.execute_reply.started": "2024-03-29T17:47:59.170412Z"
    },
    "papermill": {
     "duration": null,
     "end_time": null,
     "exception": null,
     "start_time": null,
     "status": "pending"
    },
    "tags": []
   },
   "outputs": [],
   "source": [
    "df['trip_creation_time'].dt.month_name().value_counts()"
   ]
  },
  {
   "cell_type": "markdown",
   "id": "476c8377",
   "metadata": {
    "papermill": {
     "duration": null,
     "end_time": null,
     "exception": null,
     "start_time": null,
     "status": "pending"
    },
    "tags": []
   },
   "source": [
    "### We have data of only 2 months"
   ]
  },
  {
   "cell_type": "markdown",
   "id": "caad0f4d",
   "metadata": {
    "papermill": {
     "duration": null,
     "end_time": null,
     "exception": null,
     "start_time": null,
     "status": "pending"
    },
    "tags": []
   },
   "source": [
    "## Let's see what years data we have"
   ]
  },
  {
   "cell_type": "code",
   "execution_count": null,
   "id": "e7e85b65",
   "metadata": {
    "execution": {
     "iopub.status.busy": "2024-03-29T17:47:59.172180Z",
     "iopub.status.idle": "2024-03-29T17:47:59.172553Z",
     "shell.execute_reply": "2024-03-29T17:47:59.172391Z",
     "shell.execute_reply.started": "2024-03-29T17:47:59.172375Z"
    },
    "papermill": {
     "duration": null,
     "end_time": null,
     "exception": null,
     "start_time": null,
     "status": "pending"
    },
    "tags": []
   },
   "outputs": [],
   "source": [
    "df['trip_creation_time'].dt.year.value_counts()"
   ]
  },
  {
   "cell_type": "code",
   "execution_count": null,
   "id": "efbd5075",
   "metadata": {
    "execution": {
     "iopub.status.busy": "2024-03-29T17:47:59.174292Z",
     "iopub.status.idle": "2024-03-29T17:47:59.174688Z",
     "shell.execute_reply": "2024-03-29T17:47:59.174529Z",
     "shell.execute_reply.started": "2024-03-29T17:47:59.174514Z"
    },
    "papermill": {
     "duration": null,
     "end_time": null,
     "exception": null,
     "start_time": null,
     "status": "pending"
    },
    "tags": []
   },
   "outputs": [],
   "source": [
    "df['trip_creation_time'].dt.day_name().value_counts()"
   ]
  },
  {
   "cell_type": "markdown",
   "id": "79b25a59",
   "metadata": {
    "papermill": {
     "duration": null,
     "end_time": null,
     "exception": null,
     "start_time": null,
     "status": "pending"
    },
    "tags": []
   },
   "source": [
    "### Let's see the number of unique rows"
   ]
  },
  {
   "cell_type": "code",
   "execution_count": null,
   "id": "c19830a1",
   "metadata": {
    "execution": {
     "iopub.status.busy": "2024-03-29T17:47:59.176001Z",
     "iopub.status.idle": "2024-03-29T17:47:59.176389Z",
     "shell.execute_reply": "2024-03-29T17:47:59.176234Z",
     "shell.execute_reply.started": "2024-03-29T17:47:59.176218Z"
    },
    "papermill": {
     "duration": null,
     "end_time": null,
     "exception": null,
     "start_time": null,
     "status": "pending"
    },
    "tags": []
   },
   "outputs": [],
   "source": [
    "df.nunique()"
   ]
  },
  {
   "cell_type": "markdown",
   "id": "b0af123e",
   "metadata": {
    "papermill": {
     "duration": null,
     "end_time": null,
     "exception": null,
     "start_time": null,
     "status": "pending"
    },
    "tags": []
   },
   "source": [
    "### There are total 14653 different trips of data available\n",
    "### There are 1490 unique source_center\n",
    "### There are 1466 unique destination_center\n",
    "### There are total 1497 delivery routes"
   ]
  },
  {
   "cell_type": "markdown",
   "id": "b2c15e24",
   "metadata": {
    "papermill": {
     "duration": null,
     "end_time": null,
     "exception": null,
     "start_time": null,
     "status": "pending"
    },
    "tags": []
   },
   "source": [
    "## Visual analysis of numerical data"
   ]
  },
  {
   "cell_type": "code",
   "execution_count": null,
   "id": "9d7ce7ec",
   "metadata": {
    "execution": {
     "iopub.status.busy": "2024-03-29T17:47:59.177311Z",
     "iopub.status.idle": "2024-03-29T17:47:59.177648Z",
     "shell.execute_reply": "2024-03-29T17:47:59.177498Z",
     "shell.execute_reply.started": "2024-03-29T17:47:59.177483Z"
    },
    "papermill": {
     "duration": null,
     "end_time": null,
     "exception": null,
     "start_time": null,
     "status": "pending"
    },
    "tags": []
   },
   "outputs": [],
   "source": [
    "num_var=df.select_dtypes('number')\n",
    "num_var.columns"
   ]
  },
  {
   "cell_type": "code",
   "execution_count": null,
   "id": "e0254c63",
   "metadata": {
    "execution": {
     "iopub.status.busy": "2024-03-29T17:47:59.180694Z",
     "iopub.status.idle": "2024-03-29T17:47:59.181510Z",
     "shell.execute_reply": "2024-03-29T17:47:59.181260Z",
     "shell.execute_reply.started": "2024-03-29T17:47:59.181234Z"
    },
    "papermill": {
     "duration": null,
     "end_time": null,
     "exception": null,
     "start_time": null,
     "status": "pending"
    },
    "tags": []
   },
   "outputs": [],
   "source": [
    "num_vars=num_var.columns.tolist()\n",
    "len(num_vars)"
   ]
  },
  {
   "cell_type": "code",
   "execution_count": null,
   "id": "7a00f53b",
   "metadata": {
    "execution": {
     "iopub.status.busy": "2024-03-29T17:47:59.182943Z",
     "iopub.status.idle": "2024-03-29T17:47:59.183736Z",
     "shell.execute_reply": "2024-03-29T17:47:59.183479Z",
     "shell.execute_reply.started": "2024-03-29T17:47:59.183456Z"
    },
    "papermill": {
     "duration": null,
     "end_time": null,
     "exception": null,
     "start_time": null,
     "status": "pending"
    },
    "tags": []
   },
   "outputs": [],
   "source": [
    "fig,axes=plt.subplots(11,2,figsize=(18,80))\n",
    "for i in range(len(num_vars)):\n",
    "    sns.histplot(x=num_vars[i],kde=True,bins=40,ax=axes[i,0],data=df)\n",
    "    axes[i,0].set_title(f\"Distribution of {num_vars[i]}\")\n",
    "    sns.boxplot(y=num_vars[i],ax=axes[i,1],data=df)\n",
    "    axes[i,1].set_title(f\"Boxplot of {num_vars[i]}\")\n",
    "plt.show()"
   ]
  },
  {
   "cell_type": "markdown",
   "id": "7b0f7841",
   "metadata": {
    "papermill": {
     "duration": null,
     "end_time": null,
     "exception": null,
     "start_time": null,
     "status": "pending"
    },
    "tags": []
   },
   "source": [
    "#### Since we have pin code, source state,source city, destination city, distination state and destination city, let's extract those"
   ]
  },
  {
   "cell_type": "code",
   "execution_count": null,
   "id": "4f1d9ee3",
   "metadata": {
    "execution": {
     "iopub.status.busy": "2024-03-29T17:47:59.184922Z",
     "iopub.status.idle": "2024-03-29T17:47:59.185911Z",
     "shell.execute_reply": "2024-03-29T17:47:59.185646Z",
     "shell.execute_reply.started": "2024-03-29T17:47:59.185622Z"
    },
    "papermill": {
     "duration": null,
     "end_time": null,
     "exception": null,
     "start_time": null,
     "status": "pending"
    },
    "tags": []
   },
   "outputs": [],
   "source": [
    "df['source_city']=df['source_name'].str.split(\"_\",expand=True)[0]"
   ]
  },
  {
   "cell_type": "code",
   "execution_count": null,
   "id": "08784805",
   "metadata": {
    "execution": {
     "iopub.status.busy": "2024-03-29T17:47:59.187313Z",
     "iopub.status.idle": "2024-03-29T17:47:59.187679Z",
     "shell.execute_reply": "2024-03-29T17:47:59.187519Z",
     "shell.execute_reply.started": "2024-03-29T17:47:59.187504Z"
    },
    "papermill": {
     "duration": null,
     "end_time": null,
     "exception": null,
     "start_time": null,
     "status": "pending"
    },
    "tags": []
   },
   "outputs": [],
   "source": [
    "df['source_state']=df['source_name'].str.split(\"(\",expand=True)[1].str.replace(\")\",\"\")"
   ]
  },
  {
   "cell_type": "code",
   "execution_count": null,
   "id": "24532958",
   "metadata": {
    "execution": {
     "iopub.status.busy": "2024-03-29T17:47:59.189428Z",
     "iopub.status.idle": "2024-03-29T17:47:59.189824Z",
     "shell.execute_reply": "2024-03-29T17:47:59.189647Z",
     "shell.execute_reply.started": "2024-03-29T17:47:59.189631Z"
    },
    "papermill": {
     "duration": null,
     "end_time": null,
     "exception": null,
     "start_time": null,
     "status": "pending"
    },
    "tags": []
   },
   "outputs": [],
   "source": [
    "df['source_pincode']=df['source_center'].apply(lambda x: x[3:9])"
   ]
  },
  {
   "cell_type": "code",
   "execution_count": null,
   "id": "48cacf48",
   "metadata": {
    "execution": {
     "iopub.status.busy": "2024-03-29T17:47:59.191241Z",
     "iopub.status.idle": "2024-03-29T17:47:59.191667Z",
     "shell.execute_reply": "2024-03-29T17:47:59.191504Z",
     "shell.execute_reply.started": "2024-03-29T17:47:59.191487Z"
    },
    "papermill": {
     "duration": null,
     "end_time": null,
     "exception": null,
     "start_time": null,
     "status": "pending"
    },
    "tags": []
   },
   "outputs": [],
   "source": [
    "df['destination_city']=df['destination_name'].str.split(\"_\",expand=True)[0]"
   ]
  },
  {
   "cell_type": "code",
   "execution_count": null,
   "id": "2bc38714",
   "metadata": {
    "execution": {
     "iopub.status.busy": "2024-03-29T17:47:59.193178Z",
     "iopub.status.idle": "2024-03-29T17:47:59.194009Z",
     "shell.execute_reply": "2024-03-29T17:47:59.193824Z",
     "shell.execute_reply.started": "2024-03-29T17:47:59.193805Z"
    },
    "papermill": {
     "duration": null,
     "end_time": null,
     "exception": null,
     "start_time": null,
     "status": "pending"
    },
    "tags": []
   },
   "outputs": [],
   "source": [
    "df['destination_state']=df['destination_name'].str.split(\"(\",expand=True)[1].str.replace(\")\",\"\")"
   ]
  },
  {
   "cell_type": "code",
   "execution_count": null,
   "id": "1dec4759",
   "metadata": {
    "execution": {
     "iopub.status.busy": "2024-03-29T17:47:59.195592Z",
     "iopub.status.idle": "2024-03-29T17:47:59.196321Z",
     "shell.execute_reply": "2024-03-29T17:47:59.196126Z",
     "shell.execute_reply.started": "2024-03-29T17:47:59.196089Z"
    },
    "papermill": {
     "duration": null,
     "end_time": null,
     "exception": null,
     "start_time": null,
     "status": "pending"
    },
    "tags": []
   },
   "outputs": [],
   "source": [
    "def extract_pincode(col):\n",
    "    return col[3:9]\n",
    "    "
   ]
  },
  {
   "cell_type": "code",
   "execution_count": null,
   "id": "137949d0",
   "metadata": {
    "execution": {
     "iopub.status.busy": "2024-03-29T17:47:59.197485Z",
     "iopub.status.idle": "2024-03-29T17:47:59.198567Z",
     "shell.execute_reply": "2024-03-29T17:47:59.198387Z",
     "shell.execute_reply.started": "2024-03-29T17:47:59.198369Z"
    },
    "papermill": {
     "duration": null,
     "end_time": null,
     "exception": null,
     "start_time": null,
     "status": "pending"
    },
    "tags": []
   },
   "outputs": [],
   "source": [
    "df['destination_pincode']=df['destination_center'].apply(extract_pincode)"
   ]
  },
  {
   "cell_type": "code",
   "execution_count": null,
   "id": "883ceb98",
   "metadata": {
    "execution": {
     "iopub.status.busy": "2024-03-29T17:47:59.199530Z",
     "iopub.status.idle": "2024-03-29T17:47:59.200423Z",
     "shell.execute_reply": "2024-03-29T17:47:59.200126Z",
     "shell.execute_reply.started": "2024-03-29T17:47:59.200086Z"
    },
    "papermill": {
     "duration": null,
     "end_time": null,
     "exception": null,
     "start_time": null,
     "status": "pending"
    },
    "tags": []
   },
   "outputs": [],
   "source": [
    "df.info()"
   ]
  },
  {
   "cell_type": "markdown",
   "id": "294008ad",
   "metadata": {
    "papermill": {
     "duration": null,
     "end_time": null,
     "exception": null,
     "start_time": null,
     "status": "pending"
    },
    "tags": []
   },
   "source": [
    "#### Let's see the time delta between trip start time od start time and od end time"
   ]
  },
  {
   "cell_type": "code",
   "execution_count": null,
   "id": "07b9197c",
   "metadata": {
    "execution": {
     "iopub.status.busy": "2024-03-29T17:47:59.202044Z",
     "iopub.status.idle": "2024-03-29T17:47:59.202445Z",
     "shell.execute_reply": "2024-03-29T17:47:59.202282Z",
     "shell.execute_reply.started": "2024-03-29T17:47:59.202259Z"
    },
    "papermill": {
     "duration": null,
     "end_time": null,
     "exception": null,
     "start_time": null,
     "status": "pending"
    },
    "tags": []
   },
   "outputs": [],
   "source": [
    "df['od_time_diff']=(df['od_end_time']-df['od_start_time']).dt.total_seconds()/3600\n",
    "df['od_time_diff']"
   ]
  },
  {
   "cell_type": "markdown",
   "id": "8754e16a",
   "metadata": {
    "papermill": {
     "duration": null,
     "end_time": null,
     "exception": null,
     "start_time": null,
     "status": "pending"
    },
    "tags": []
   },
   "source": [
    "### Convert all time columns into hours"
   ]
  },
  {
   "cell_type": "code",
   "execution_count": null,
   "id": "ebdd44d5",
   "metadata": {
    "execution": {
     "iopub.status.busy": "2024-03-29T17:47:59.203994Z",
     "iopub.status.idle": "2024-03-29T17:47:59.204387Z",
     "shell.execute_reply": "2024-03-29T17:47:59.204221Z",
     "shell.execute_reply.started": "2024-03-29T17:47:59.204205Z"
    },
    "papermill": {
     "duration": null,
     "end_time": null,
     "exception": null,
     "start_time": null,
     "status": "pending"
    },
    "tags": []
   },
   "outputs": [],
   "source": [
    "df['start_scan_to_end_scan']=df['start_scan_to_end_scan']/60"
   ]
  },
  {
   "cell_type": "markdown",
   "id": "28633cbb",
   "metadata": {
    "papermill": {
     "duration": null,
     "end_time": null,
     "exception": null,
     "start_time": null,
     "status": "pending"
    },
    "tags": []
   },
   "source": [
    "### Let's see visually od_time_diff vs start_scan_to_end_scan"
   ]
  },
  {
   "cell_type": "code",
   "execution_count": null,
   "id": "e5a22f8d",
   "metadata": {
    "execution": {
     "iopub.status.busy": "2024-03-29T17:47:59.205475Z",
     "iopub.status.idle": "2024-03-29T17:47:59.205858Z",
     "shell.execute_reply": "2024-03-29T17:47:59.205686Z",
     "shell.execute_reply.started": "2024-03-29T17:47:59.205669Z"
    },
    "papermill": {
     "duration": null,
     "end_time": null,
     "exception": null,
     "start_time": null,
     "status": "pending"
    },
    "tags": []
   },
   "outputs": [],
   "source": [
    "df['start_scan_to_end_scan']*60*60"
   ]
  },
  {
   "cell_type": "code",
   "execution_count": null,
   "id": "20e74386",
   "metadata": {
    "execution": {
     "iopub.status.busy": "2024-03-29T17:47:59.207018Z"
    },
    "papermill": {
     "duration": null,
     "end_time": null,
     "exception": null,
     "start_time": null,
     "status": "pending"
    },
    "tags": []
   },
   "outputs": [],
   "source": [
    "df['start_scan_to_end_scan']=df['start_scan_to_end_scan']*60*60\n",
    "df['od_time_diff']"
   ]
  },
  {
   "cell_type": "code",
   "execution_count": null,
   "id": "d107f2de",
   "metadata": {
    "papermill": {
     "duration": null,
     "end_time": null,
     "exception": null,
     "start_time": null,
     "status": "pending"
    },
    "tags": []
   },
   "outputs": [],
   "source": [
    "sns.scatterplot(x='start_scan_to_end_scan',y='od_time_diff',data=df)\n",
    "plt.show()"
   ]
  },
  {
   "cell_type": "code",
   "execution_count": null,
   "id": "f44f814c",
   "metadata": {
    "papermill": {
     "duration": null,
     "end_time": null,
     "exception": null,
     "start_time": null,
     "status": "pending"
    },
    "tags": []
   },
   "outputs": [],
   "source": [
    "df.drop(\"od_tim_diff\",axis=1)"
   ]
  },
  {
   "cell_type": "code",
   "execution_count": null,
   "id": "96053d48",
   "metadata": {
    "papermill": {
     "duration": null,
     "end_time": null,
     "exception": null,
     "start_time": null,
     "status": "pending"
    },
    "tags": []
   },
   "outputs": [],
   "source": [
    "# I think I messed up something in start_scan_to_end_scan, so I will drop it and will again add that row to the df dataframe"
   ]
  },
  {
   "cell_type": "code",
   "execution_count": null,
   "id": "f13c4b56",
   "metadata": {
    "papermill": {
     "duration": null,
     "end_time": null,
     "exception": null,
     "start_time": null,
     "status": "pending"
    },
    "tags": []
   },
   "outputs": [],
   "source": [
    "df_2['start_scan_to_end_scan']"
   ]
  },
  {
   "cell_type": "code",
   "execution_count": null,
   "id": "4808c99e",
   "metadata": {
    "papermill": {
     "duration": null,
     "end_time": null,
     "exception": null,
     "start_time": null,
     "status": "pending"
    },
    "tags": []
   },
   "outputs": [],
   "source": [
    "df.drop('start_scan_to_end_scan',axis=1)"
   ]
  },
  {
   "cell_type": "code",
   "execution_count": null,
   "id": "013b955b",
   "metadata": {
    "papermill": {
     "duration": null,
     "end_time": null,
     "exception": null,
     "start_time": null,
     "status": "pending"
    },
    "tags": []
   },
   "outputs": [],
   "source": [
    "df['start_scan_to_end_scan']=df_2['start_scan_to_end_scan']"
   ]
  },
  {
   "cell_type": "code",
   "execution_count": null,
   "id": "f9bba0ae",
   "metadata": {
    "papermill": {
     "duration": null,
     "end_time": null,
     "exception": null,
     "start_time": null,
     "status": "pending"
    },
    "tags": []
   },
   "outputs": [],
   "source": [
    "df['start_scan_to_end_scan']"
   ]
  },
  {
   "cell_type": "code",
   "execution_count": null,
   "id": "df92d206",
   "metadata": {
    "papermill": {
     "duration": null,
     "end_time": null,
     "exception": null,
     "start_time": null,
     "status": "pending"
    },
    "tags": []
   },
   "outputs": [],
   "source": [
    "df.head()"
   ]
  },
  {
   "cell_type": "code",
   "execution_count": null,
   "id": "3320815a",
   "metadata": {
    "papermill": {
     "duration": null,
     "end_time": null,
     "exception": null,
     "start_time": null,
     "status": "pending"
    },
    "tags": []
   },
   "outputs": [],
   "source": [
    "# There I recovered the column back, now I will again convert that into hours\n",
    "df['start_scan_to_end_scan']=df['start_scan_to_end_scan']/60"
   ]
  },
  {
   "cell_type": "code",
   "execution_count": null,
   "id": "acf7dab3",
   "metadata": {
    "papermill": {
     "duration": null,
     "end_time": null,
     "exception": null,
     "start_time": null,
     "status": "pending"
    },
    "tags": []
   },
   "outputs": [],
   "source": [
    "df['start_scan_to_end_scan']"
   ]
  },
  {
   "cell_type": "code",
   "execution_count": null,
   "id": "53c7f26b",
   "metadata": {
    "papermill": {
     "duration": null,
     "end_time": null,
     "exception": null,
     "start_time": null,
     "status": "pending"
    },
    "tags": []
   },
   "outputs": [],
   "source": [
    "sns.scatterplot(x='start_scan_to_end_scan',y='od_time_diff',data=df)\n",
    "plt.show()"
   ]
  },
  {
   "cell_type": "markdown",
   "id": "f8d58625",
   "metadata": {
    "papermill": {
     "duration": null,
     "end_time": null,
     "exception": null,
     "start_time": null,
     "status": "pending"
    },
    "tags": []
   },
   "source": [
    "### From the above scatterplot we can see that od_time_diff and start_scan_to_end_scan are almost equal"
   ]
  },
  {
   "cell_type": "markdown",
   "id": "03a4057a",
   "metadata": {
    "papermill": {
     "duration": null,
     "end_time": null,
     "exception": null,
     "start_time": null,
     "status": "pending"
    },
    "tags": []
   },
   "source": [
    "## Hypothesis testing to prove this claim"
   ]
  },
  {
   "cell_type": "code",
   "execution_count": null,
   "id": "8f3ff45c",
   "metadata": {
    "papermill": {
     "duration": null,
     "end_time": null,
     "exception": null,
     "start_time": null,
     "status": "pending"
    },
    "tags": []
   },
   "outputs": [],
   "source": [
    "#since both are numerical data we can perform t test independent"
   ]
  },
  {
   "cell_type": "markdown",
   "id": "4ba1897a",
   "metadata": {
    "papermill": {
     "duration": null,
     "end_time": null,
     "exception": null,
     "start_time": null,
     "status": "pending"
    },
    "tags": []
   },
   "source": [
    "#### H0 : The mean of od_time_diff and start_scan_to_end_scan are almost same\n",
    "#### HA : The mean of od_time_diff != start_scan_to_end_scan"
   ]
  },
  {
   "cell_type": "code",
   "execution_count": null,
   "id": "86e82225",
   "metadata": {
    "papermill": {
     "duration": null,
     "end_time": null,
     "exception": null,
     "start_time": null,
     "status": "pending"
    },
    "tags": []
   },
   "outputs": [],
   "source": [
    "tstat,p=scipy.stats.ttest_ind(df['od_time_diff'],df['start_scan_to_end_scan'],alternative='two-sided')\n",
    "p"
   ]
  },
  {
   "cell_type": "code",
   "execution_count": null,
   "id": "99bce777",
   "metadata": {
    "papermill": {
     "duration": null,
     "end_time": null,
     "exception": null,
     "start_time": null,
     "status": "pending"
    },
    "tags": []
   },
   "outputs": [],
   "source": [
    "alpha = 0.05\n",
    "\n",
    "if p<alpha:\n",
    "    print(\"The mean of od_time_diff != start_scan_to_end_scan\")\n",
    "else:\n",
    "    print(\"The mean of od_time_diff and start_scan_to_end_scan are almost same\")"
   ]
  },
  {
   "cell_type": "markdown",
   "id": "ef912bc2",
   "metadata": {
    "papermill": {
     "duration": null,
     "end_time": null,
     "exception": null,
     "start_time": null,
     "status": "pending"
    },
    "tags": []
   },
   "source": [
    "### As we can see above results means of od_time_diff and start_scan_to_end_scan are almost same"
   ]
  },
  {
   "cell_type": "code",
   "execution_count": null,
   "id": "3ffd5ed9",
   "metadata": {
    "papermill": {
     "duration": null,
     "end_time": null,
     "exception": null,
     "start_time": null,
     "status": "pending"
    },
    "tags": []
   },
   "outputs": [],
   "source": [
    "### Let's convert all the dates into hours \n",
    "df['actual_time']=df['actual_time']/60\n",
    "df[\"osrm_time\"] = df[\"osrm_time\"]/60\n",
    "df[\"segment_actual_time\"] = df[\"segment_actual_time\"]/60\n",
    "df[\"segment_osrm_time\"] = df[\"segment_osrm_time\"]/60"
   ]
  },
  {
   "cell_type": "code",
   "execution_count": null,
   "id": "cad44342",
   "metadata": {
    "papermill": {
     "duration": null,
     "end_time": null,
     "exception": null,
     "start_time": null,
     "status": "pending"
    },
    "tags": []
   },
   "outputs": [],
   "source": [
    "# By mistake had created one column with wrong spelling, so dropping it\n",
    "df=df.drop(columns=['od_tim_diff'])"
   ]
  },
  {
   "cell_type": "code",
   "execution_count": null,
   "id": "62c97915",
   "metadata": {
    "papermill": {
     "duration": null,
     "end_time": null,
     "exception": null,
     "start_time": null,
     "status": "pending"
    },
    "tags": []
   },
   "outputs": [],
   "source": [
    "df.info()"
   ]
  },
  {
   "cell_type": "code",
   "execution_count": null,
   "id": "8c47ecf3",
   "metadata": {
    "papermill": {
     "duration": null,
     "end_time": null,
     "exception": null,
     "start_time": null,
     "status": "pending"
    },
    "tags": []
   },
   "outputs": [],
   "source": [
    "df[df['destination_city']=='Bengaluru']"
   ]
  },
  {
   "cell_type": "code",
   "execution_count": null,
   "id": "7cb64532",
   "metadata": {
    "papermill": {
     "duration": null,
     "end_time": null,
     "exception": null,
     "start_time": null,
     "status": "pending"
    },
    "tags": []
   },
   "outputs": [],
   "source": [
    "### When I observed the data, in some places Bangalore has different spellings, so let us replace all with one common spelling\n",
    "df_3=df #(Just keeping a backup data if I mess up)"
   ]
  },
  {
   "cell_type": "code",
   "execution_count": null,
   "id": "16101d85",
   "metadata": {
    "papermill": {
     "duration": null,
     "end_time": null,
     "exception": null,
     "start_time": null,
     "status": "pending"
    },
    "tags": []
   },
   "outputs": [],
   "source": [
    "city_mapping = {'Bangalore':'Bangalore','Bengaluru':'Bangalore','Blr':'Bangalore','AMD':'Ahmedabad','Ahmedabad':'Ahmedabad',\n",
    "               'Amdavad':'Ahmedabad','del':'Delhi','Delhi':'Delhi'}"
   ]
  },
  {
   "cell_type": "code",
   "execution_count": null,
   "id": "cfe4be67",
   "metadata": {
    "papermill": {
     "duration": null,
     "end_time": null,
     "exception": null,
     "start_time": null,
     "status": "pending"
    },
    "tags": []
   },
   "outputs": [],
   "source": [
    "df['source_city']=df['source_city'].map(city_mapping).fillna(df['source_city'])"
   ]
  },
  {
   "cell_type": "code",
   "execution_count": null,
   "id": "2bfd8a6f",
   "metadata": {
    "papermill": {
     "duration": null,
     "end_time": null,
     "exception": null,
     "start_time": null,
     "status": "pending"
    },
    "tags": []
   },
   "outputs": [],
   "source": [
    "df['destination_city']=df['destination_city'].map(city_mapping).fillna(df['destination_city'])"
   ]
  },
  {
   "cell_type": "markdown",
   "id": "c47416f4",
   "metadata": {
    "papermill": {
     "duration": null,
     "end_time": null,
     "exception": null,
     "start_time": null,
     "status": "pending"
    },
    "tags": []
   },
   "source": [
    "### Let us create 2 new features combining city and state"
   ]
  },
  {
   "cell_type": "code",
   "execution_count": null,
   "id": "ddb044b4",
   "metadata": {
    "papermill": {
     "duration": null,
     "end_time": null,
     "exception": null,
     "start_time": null,
     "status": "pending"
    },
    "tags": []
   },
   "outputs": [],
   "source": [
    "df['source_city_state']=df['source_city']+\" \"+df['source_state']"
   ]
  },
  {
   "cell_type": "code",
   "execution_count": null,
   "id": "85c3d228",
   "metadata": {
    "papermill": {
     "duration": null,
     "end_time": null,
     "exception": null,
     "start_time": null,
     "status": "pending"
    },
    "tags": []
   },
   "outputs": [],
   "source": [
    "df['destination_city_state']=df['destination_city']+\" \"+df['destination_state']"
   ]
  },
  {
   "cell_type": "code",
   "execution_count": null,
   "id": "f11ee96c",
   "metadata": {
    "papermill": {
     "duration": null,
     "end_time": null,
     "exception": null,
     "start_time": null,
     "status": "pending"
    },
    "tags": []
   },
   "outputs": [],
   "source": [
    "df['source_city_state'].nunique()"
   ]
  },
  {
   "cell_type": "code",
   "execution_count": null,
   "id": "74dda5de",
   "metadata": {
    "papermill": {
     "duration": null,
     "end_time": null,
     "exception": null,
     "start_time": null,
     "status": "pending"
    },
    "tags": []
   },
   "outputs": [],
   "source": [
    "df['destination_city_state'].nunique()"
   ]
  },
  {
   "cell_type": "code",
   "execution_count": null,
   "id": "dbf251a1",
   "metadata": {
    "papermill": {
     "duration": null,
     "end_time": null,
     "exception": null,
     "start_time": null,
     "status": "pending"
    },
    "tags": []
   },
   "outputs": [],
   "source": [
    "df['source_state'].nunique()"
   ]
  },
  {
   "cell_type": "code",
   "execution_count": null,
   "id": "7f79cb35",
   "metadata": {
    "papermill": {
     "duration": null,
     "end_time": null,
     "exception": null,
     "start_time": null,
     "status": "pending"
    },
    "tags": []
   },
   "outputs": [],
   "source": [
    "df['destination_state'].nunique()"
   ]
  },
  {
   "cell_type": "markdown",
   "id": "eb3fb527",
   "metadata": {
    "papermill": {
     "duration": null,
     "end_time": null,
     "exception": null,
     "start_time": null,
     "status": "pending"
    },
    "tags": []
   },
   "source": [
    "### As we can see the above data, delhivery's presence is in almost all over India"
   ]
  },
  {
   "cell_type": "code",
   "execution_count": null,
   "id": "82cf165a",
   "metadata": {
    "papermill": {
     "duration": null,
     "end_time": null,
     "exception": null,
     "start_time": null,
     "status": "pending"
    },
    "tags": []
   },
   "outputs": [],
   "source": [
    "df_new=df.copy()"
   ]
  },
  {
   "cell_type": "code",
   "execution_count": null,
   "id": "3998a5e9",
   "metadata": {
    "papermill": {
     "duration": null,
     "end_time": null,
     "exception": null,
     "start_time": null,
     "status": "pending"
    },
    "tags": []
   },
   "outputs": [],
   "source": [
    "df_new.shape"
   ]
  },
  {
   "cell_type": "code",
   "execution_count": null,
   "id": "48111a21",
   "metadata": {
    "papermill": {
     "duration": null,
     "end_time": null,
     "exception": null,
     "start_time": null,
     "status": "pending"
    },
    "tags": []
   },
   "outputs": [],
   "source": [
    "df_new.info()"
   ]
  },
  {
   "cell_type": "markdown",
   "id": "18a83696",
   "metadata": {
    "papermill": {
     "duration": null,
     "end_time": null,
     "exception": null,
     "start_time": null,
     "status": "pending"
    },
    "tags": []
   },
   "source": [
    "#### There are many unnessasry columns, so dropping them"
   ]
  },
  {
   "cell_type": "code",
   "execution_count": null,
   "id": "0980e517",
   "metadata": {
    "papermill": {
     "duration": null,
     "end_time": null,
     "exception": null,
     "start_time": null,
     "status": "pending"
    },
    "tags": []
   },
   "outputs": [],
   "source": [
    "df_new.drop(columns=[\"source_center\",\"source_name\",\"destination_center\",\"destination_name\",\"cutoff_timestamp\", \"od_end_time\",\"od_start_time\"],\n",
    "           inplace=True)"
   ]
  },
  {
   "cell_type": "code",
   "execution_count": null,
   "id": "e15cea42",
   "metadata": {
    "papermill": {
     "duration": null,
     "end_time": null,
     "exception": null,
     "start_time": null,
     "status": "pending"
    },
    "tags": []
   },
   "outputs": [],
   "source": [
    "df_new.shape"
   ]
  },
  {
   "cell_type": "markdown",
   "id": "71917fb1",
   "metadata": {
    "papermill": {
     "duration": null,
     "end_time": null,
     "exception": null,
     "start_time": null,
     "status": "pending"
    },
    "tags": []
   },
   "source": [
    "#### As we can see in the data, actual time is the cumulative time for all the packages to get delivered in a trip"
   ]
  },
  {
   "cell_type": "markdown",
   "id": "0d01ffff",
   "metadata": {
    "papermill": {
     "duration": null,
     "end_time": null,
     "exception": null,
     "start_time": null,
     "status": "pending"
    },
    "tags": []
   },
   "source": [
    "### So max of actual time goup by with tripuuid will be the actual time of completion for each package"
   ]
  },
  {
   "cell_type": "code",
   "execution_count": null,
   "id": "7cff27c5",
   "metadata": {
    "papermill": {
     "duration": null,
     "end_time": null,
     "exception": null,
     "start_time": null,
     "status": "pending"
    },
    "tags": []
   },
   "outputs": [],
   "source": [
    "actual_time_df=df.groupby('trip_uuid')['actual_time'].max().reset_index()"
   ]
  },
  {
   "cell_type": "code",
   "execution_count": null,
   "id": "020427ce",
   "metadata": {
    "papermill": {
     "duration": null,
     "end_time": null,
     "exception": null,
     "start_time": null,
     "status": "pending"
    },
    "tags": []
   },
   "outputs": [],
   "source": [
    "actual_time_df"
   ]
  },
  {
   "cell_type": "markdown",
   "id": "2a811f0d",
   "metadata": {
    "papermill": {
     "duration": null,
     "end_time": null,
     "exception": null,
     "start_time": null,
     "status": "pending"
    },
    "tags": []
   },
   "source": [
    "### Let's now check the osrm time aggregation"
   ]
  },
  {
   "cell_type": "code",
   "execution_count": null,
   "id": "c23b816d",
   "metadata": {
    "papermill": {
     "duration": null,
     "end_time": null,
     "exception": null,
     "start_time": null,
     "status": "pending"
    },
    "tags": []
   },
   "outputs": [],
   "source": [
    "df.groupby('trip_uuid')['osrm_time'].max().reset_index() #Since this is cumulative value, we need not do the summation here"
   ]
  },
  {
   "cell_type": "code",
   "execution_count": null,
   "id": "c94deb44",
   "metadata": {
    "papermill": {
     "duration": null,
     "end_time": null,
     "exception": null,
     "start_time": null,
     "status": "pending"
    },
    "tags": []
   },
   "outputs": [],
   "source": [
    "osrm_time_df=df.groupby('trip_uuid')['osrm_time'].max().reset_index()"
   ]
  },
  {
   "cell_type": "code",
   "execution_count": null,
   "id": "e7f96f55",
   "metadata": {
    "papermill": {
     "duration": null,
     "end_time": null,
     "exception": null,
     "start_time": null,
     "status": "pending"
    },
    "tags": []
   },
   "outputs": [],
   "source": [
    "osrm_time_df"
   ]
  },
  {
   "cell_type": "code",
   "execution_count": null,
   "id": "933347ea",
   "metadata": {
    "papermill": {
     "duration": null,
     "end_time": null,
     "exception": null,
     "start_time": null,
     "status": "pending"
    },
    "tags": []
   },
   "outputs": [],
   "source": [
    "df_new.head()"
   ]
  },
  {
   "cell_type": "code",
   "execution_count": null,
   "id": "40eb1764",
   "metadata": {
    "papermill": {
     "duration": null,
     "end_time": null,
     "exception": null,
     "start_time": null,
     "status": "pending"
    },
    "tags": []
   },
   "outputs": [],
   "source": [
    "segment_osrm_time_df=df_.groupby(['trip_uuid'])['segment_osrm_time'].sum()"
   ]
  },
  {
   "cell_type": "code",
   "execution_count": null,
   "id": "99ba8ab9",
   "metadata": {
    "papermill": {
     "duration": null,
     "end_time": null,
     "exception": null,
     "start_time": null,
     "status": "pending"
    },
    "tags": []
   },
   "outputs": [],
   "source": [
    "segment_actual_time_df=df_new.groupby(['trip_uuid'])['segment_actual_time'].sum()"
   ]
  },
  {
   "cell_type": "code",
   "execution_count": null,
   "id": "822d8e69",
   "metadata": {
    "papermill": {
     "duration": null,
     "end_time": null,
     "exception": null,
     "start_time": null,
     "status": "pending"
    },
    "tags": []
   },
   "outputs": [],
   "source": [
    "osrm_distance=df_new.groupby('trip_uuid')['osrm_distance'].max()"
   ]
  },
  {
   "cell_type": "code",
   "execution_count": null,
   "id": "aa940fe1",
   "metadata": {
    "papermill": {
     "duration": null,
     "end_time": null,
     "exception": null,
     "start_time": null,
     "status": "pending"
    },
    "tags": []
   },
   "outputs": [],
   "source": [
    "segment_osrm_distance_df=df_new.groupby('trip_uuid')['segment_osrm_distance'].sum()"
   ]
  },
  {
   "cell_type": "code",
   "execution_count": null,
   "id": "bb829bfa",
   "metadata": {
    "papermill": {
     "duration": null,
     "end_time": null,
     "exception": null,
     "start_time": null,
     "status": "pending"
    },
    "tags": []
   },
   "outputs": [],
   "source": [
    "od_time_diff_df=df_new.groupby('trip_uuid')['od_time_diff'].unique().reset_index()"
   ]
  },
  {
   "cell_type": "code",
   "execution_count": null,
   "id": "a12af876",
   "metadata": {
    "papermill": {
     "duration": null,
     "end_time": null,
     "exception": null,
     "start_time": null,
     "status": "pending"
    },
    "tags": []
   },
   "outputs": [],
   "source": [
    "od_time_diff_df"
   ]
  },
  {
   "cell_type": "markdown",
   "id": "ad512a80",
   "metadata": {
    "papermill": {
     "duration": null,
     "end_time": null,
     "exception": null,
     "start_time": null,
     "status": "pending"
    },
    "tags": []
   },
   "source": [
    "### Let's now do the summation for the above od_time_diff column to see the total time"
   ]
  },
  {
   "cell_type": "code",
   "execution_count": null,
   "id": "397c9d76",
   "metadata": {
    "papermill": {
     "duration": null,
     "end_time": null,
     "exception": null,
     "start_time": null,
     "status": "pending"
    },
    "tags": []
   },
   "outputs": [],
   "source": [
    "od_time_diff_df['od_time_diff'].apply(sum)"
   ]
  },
  {
   "cell_type": "code",
   "execution_count": null,
   "id": "5e2ed55d",
   "metadata": {
    "papermill": {
     "duration": null,
     "end_time": null,
     "exception": null,
     "start_time": null,
     "status": "pending"
    },
    "tags": []
   },
   "outputs": [],
   "source": [
    "od_time_diff_df['od_time_diff']=od_time_diff_df['od_time_diff'].apply(sum)"
   ]
  },
  {
   "cell_type": "code",
   "execution_count": null,
   "id": "5c8697d4",
   "metadata": {
    "papermill": {
     "duration": null,
     "end_time": null,
     "exception": null,
     "start_time": null,
     "status": "pending"
    },
    "tags": []
   },
   "outputs": [],
   "source": [
    "od_time_diff_df"
   ]
  },
  {
   "cell_type": "code",
   "execution_count": null,
   "id": "c144c280",
   "metadata": {
    "papermill": {
     "duration": null,
     "end_time": null,
     "exception": null,
     "start_time": null,
     "status": "pending"
    },
    "tags": []
   },
   "outputs": [],
   "source": [
    "start_scan_to_end_scan_df=df_new.groupby('trip_uuid')['start_scan_to_end_scan'].unique().reset_index()"
   ]
  },
  {
   "cell_type": "code",
   "execution_count": null,
   "id": "8dac34b6",
   "metadata": {
    "papermill": {
     "duration": null,
     "end_time": null,
     "exception": null,
     "start_time": null,
     "status": "pending"
    },
    "tags": []
   },
   "outputs": [],
   "source": [
    "start_scan_to_end_scan_df['start_scan_to_end_scan']=start_scan_to_end_scan_df['start_scan_to_end_scan'].apply(sum)"
   ]
  },
  {
   "cell_type": "code",
   "execution_count": null,
   "id": "e575c545",
   "metadata": {
    "papermill": {
     "duration": null,
     "end_time": null,
     "exception": null,
     "start_time": null,
     "status": "pending"
    },
    "tags": []
   },
   "outputs": [],
   "source": [
    "start_scan_to_end_scan_df"
   ]
  },
  {
   "cell_type": "markdown",
   "id": "96ba8cf8",
   "metadata": {
    "papermill": {
     "duration": null,
     "end_time": null,
     "exception": null,
     "start_time": null,
     "status": "pending"
    },
    "tags": []
   },
   "source": [
    "### I have done the total of od time differnece and total of start scan to end scan, now I will do hypothesis testing "
   ]
  },
  {
   "cell_type": "code",
   "execution_count": null,
   "id": "ded96d9e",
   "metadata": {
    "papermill": {
     "duration": null,
     "end_time": null,
     "exception": null,
     "start_time": null,
     "status": "pending"
    },
    "tags": []
   },
   "outputs": [],
   "source": [
    "# Since both are numerical columns ttest_ind can be applied\n",
    "\n",
    "od_time_diff_df['od_time_diff'].var()"
   ]
  },
  {
   "cell_type": "code",
   "execution_count": null,
   "id": "3fa36e75",
   "metadata": {
    "papermill": {
     "duration": null,
     "end_time": null,
     "exception": null,
     "start_time": null,
     "status": "pending"
    },
    "tags": []
   },
   "outputs": [],
   "source": [
    "start_scan_to_end_scan_df['start_scan_to_end_scan'].var()"
   ]
  },
  {
   "cell_type": "code",
   "execution_count": null,
   "id": "aa9d5edd",
   "metadata": {
    "papermill": {
     "duration": null,
     "end_time": null,
     "exception": null,
     "start_time": null,
     "status": "pending"
    },
    "tags": []
   },
   "outputs": [],
   "source": [
    "# As we can see variance is almost same \n",
    "# H0 : The mean of od_time_diff is equal to start_scan_to_end_scan\n",
    "# Ha : The mean of od_time_diff is not equal to start_scan_to_end_scan\n",
    "\n",
    "alpha=0.05\n",
    "\n",
    "tstat,pval=scipy.stats.ttest_ind(od_time_diff_df['od_time_diff'],start_scan_to_end_scan_df['start_scan_to_end_scan'],\n",
    "                                 equal_var=True,alternative='two-sided')\n",
    "\n",
    "if pval<alpha:\n",
    "    print(\"The mean of od_time_diff is not equal to start_scan_to_end_scan\")\n",
    "else:\n",
    "    print(\"The mean of od_time_diff is equal to start_scan_to_end_scan\")"
   ]
  },
  {
   "cell_type": "markdown",
   "id": "d3c67dc1",
   "metadata": {
    "papermill": {
     "duration": null,
     "end_time": null,
     "exception": null,
     "start_time": null,
     "status": "pending"
    },
    "tags": []
   },
   "source": [
    "## Hypothesis testing and visual analysis of OSRM time and actual time"
   ]
  },
  {
   "cell_type": "code",
   "execution_count": null,
   "id": "6f5ca4be",
   "metadata": {
    "papermill": {
     "duration": null,
     "end_time": null,
     "exception": null,
     "start_time": null,
     "status": "pending"
    },
    "tags": []
   },
   "outputs": [],
   "source": [
    "osrm_time_df['osrm_time'].var()"
   ]
  },
  {
   "cell_type": "code",
   "execution_count": null,
   "id": "a7f09143",
   "metadata": {
    "papermill": {
     "duration": null,
     "end_time": null,
     "exception": null,
     "start_time": null,
     "status": "pending"
    },
    "tags": []
   },
   "outputs": [],
   "source": [
    "actual_time_df['actual_time'].var()"
   ]
  },
  {
   "cell_type": "code",
   "execution_count": null,
   "id": "c40233b5",
   "metadata": {
    "papermill": {
     "duration": null,
     "end_time": null,
     "exception": null,
     "start_time": null,
     "status": "pending"
    },
    "tags": []
   },
   "outputs": [],
   "source": [
    "fig,axes=plt.subplots(1,2,figsize=(8,4))\n",
    "sns.histplot(x=osrm_time_df['osrm_time'],kde=True,bins=40,ax=axes[0])\n",
    "axes[0].set_title(\"Distribution of OSRM time\")\n",
    "sns.histplot(x=actual_time_df['actual_time'],kde=True,bins=40,ax=axes[1])\n",
    "axes[1].set_title(\"Distribution of Actual time\")\n",
    "plt.show()"
   ]
  },
  {
   "cell_type": "code",
   "execution_count": null,
   "id": "49df8cd2",
   "metadata": {
    "papermill": {
     "duration": null,
     "end_time": null,
     "exception": null,
     "start_time": null,
     "status": "pending"
    },
    "tags": []
   },
   "outputs": [],
   "source": [
    "# Checking whether the distribution of of both osrm time and actual time are same are not using KS test\n",
    "kstat,pval=scipy.stats.ks_2samp(osrm_time_df['osrm_time'],actual_time_df['actual_time'])\n",
    "print(pval)"
   ]
  },
  {
   "cell_type": "code",
   "execution_count": null,
   "id": "dcb0f38b",
   "metadata": {
    "papermill": {
     "duration": null,
     "end_time": null,
     "exception": null,
     "start_time": null,
     "status": "pending"
    },
    "tags": []
   },
   "outputs": [],
   "source": [
    "# H0 : The mean of OSRM time will be equal to the actual time taken to the delivery\n",
    "# HA : The mean of OSRM time < the mean of actual time taken to the delivery\n",
    "# Variances are not equal so I am putting equal_var as false\n",
    "tstat,pval=scipy.stats.ttest_ind(actual_time_df['actual_time'],osrm_time_df['osrm_time'],equal_var=False,\n",
    "                                alternative='greater')\n",
    "if pval<0.05:\n",
    "    print(\"The mean of OSRM time < the mean of actual time taken to the delivery\")\n",
    "else:\n",
    "    print(\"The mean of OSRM time will be equal to the actual time taken to the delivery\")"
   ]
  },
  {
   "cell_type": "markdown",
   "id": "0757bb57",
   "metadata": {
    "papermill": {
     "duration": null,
     "end_time": null,
     "exception": null,
     "start_time": null,
     "status": "pending"
    },
    "tags": []
   },
   "source": [
    "### As we can see the above results it is clear that actual time is higher than the osrm estimated time for delivery."
   ]
  },
  {
   "cell_type": "code",
   "execution_count": null,
   "id": "6dcc601c",
   "metadata": {
    "papermill": {
     "duration": null,
     "end_time": null,
     "exception": null,
     "start_time": null,
     "status": "pending"
    },
    "tags": []
   },
   "outputs": [],
   "source": [
    "segment_actual_time_df=segment_actual_time_df.reset_index()"
   ]
  },
  {
   "cell_type": "markdown",
   "id": "665aa925",
   "metadata": {
    "papermill": {
     "duration": null,
     "end_time": null,
     "exception": null,
     "start_time": null,
     "status": "pending"
    },
    "tags": []
   },
   "source": [
    "### Hypothesis testing and visual analysis of segment actual time and actual time"
   ]
  },
  {
   "cell_type": "code",
   "execution_count": null,
   "id": "417c493c",
   "metadata": {
    "papermill": {
     "duration": null,
     "end_time": null,
     "exception": null,
     "start_time": null,
     "status": "pending"
    },
    "tags": []
   },
   "outputs": [],
   "source": [
    "fig,axes=plt.subplots(1,2,figsize=(8,4))\n",
    "sns.histplot(x=segment_actual_time_df['segment_actual_time'],kde=True,bins=40,ax=axes[0])\n",
    "axes[0].set_title(\"Distribution of Segment Actual time\")\n",
    "sns.histplot(x=actual_time_df['actual_time'],kde=True,bins=40,ax=axes[1])\n",
    "axes[1].set_title(\"Distribution of Actual time\")\n",
    "plt.show()"
   ]
  },
  {
   "cell_type": "code",
   "execution_count": null,
   "id": "823493a7",
   "metadata": {
    "papermill": {
     "duration": null,
     "end_time": null,
     "exception": null,
     "start_time": null,
     "status": "pending"
    },
    "tags": []
   },
   "outputs": [],
   "source": [
    "# Checking whether the distribution of of both segment actual time and actual time are same are not using KS test\n",
    "kstat,pval=scipy.stats.ks_2samp(segment_actual_time_df['segment_actual_time'],actual_time_df['actual_time'])\n",
    "print(pval)"
   ]
  },
  {
   "cell_type": "markdown",
   "id": "170b689a",
   "metadata": {
    "papermill": {
     "duration": null,
     "end_time": null,
     "exception": null,
     "start_time": null,
     "status": "pending"
    },
    "tags": []
   },
   "source": [
    "#### H0 : The mean actual time and mean segment actual time are same\n",
    "#### HA : The mean actual time < mean segment actual time"
   ]
  },
  {
   "cell_type": "code",
   "execution_count": null,
   "id": "e3ff5ac3",
   "metadata": {
    "papermill": {
     "duration": null,
     "end_time": null,
     "exception": null,
     "start_time": null,
     "status": "pending"
    },
    "tags": []
   },
   "outputs": [],
   "source": [
    "# Let's check the variance of both actual time and segment actual time \n",
    "\n",
    "print(actual_time_df['actual_time'].var(),segment_actual_time_df['segment_actual_time'].var())"
   ]
  },
  {
   "cell_type": "markdown",
   "id": "64a041f5",
   "metadata": {
    "papermill": {
     "duration": null,
     "end_time": null,
     "exception": null,
     "start_time": null,
     "status": "pending"
    },
    "tags": []
   },
   "source": [
    "#### As seen above variances are not equal"
   ]
  },
  {
   "cell_type": "code",
   "execution_count": null,
   "id": "301dd818",
   "metadata": {
    "papermill": {
     "duration": null,
     "end_time": null,
     "exception": null,
     "start_time": null,
     "status": "pending"
    },
    "tags": []
   },
   "outputs": [],
   "source": [
    "tstat,pval=scipy.stats.ttest_ind(actual_time_df['actual_time'],segment_actual_time_df['segment_actual_time'],\n",
    "                                alternative='less',equal_var=False)\n",
    "\n",
    "if pval<0.05:\n",
    "    print(\"The mean actual time < mean segment actual time\")\n",
    "else:\n",
    "    print(\"The mean actual time and mean segment actual time are same \")"
   ]
  },
  {
   "cell_type": "markdown",
   "id": "b4dc53f2",
   "metadata": {
    "papermill": {
     "duration": null,
     "end_time": null,
     "exception": null,
     "start_time": null,
     "status": "pending"
    },
    "tags": []
   },
   "source": [
    "### Hypothesis testing and visual analysis between osrm distance and segment osrm distance."
   ]
  },
  {
   "cell_type": "code",
   "execution_count": null,
   "id": "df6511b0",
   "metadata": {
    "papermill": {
     "duration": null,
     "end_time": null,
     "exception": null,
     "start_time": null,
     "status": "pending"
    },
    "tags": []
   },
   "outputs": [],
   "source": [
    "osrm_distance=osrm_distance.reset_index()"
   ]
  },
  {
   "cell_type": "code",
   "execution_count": null,
   "id": "405709cb",
   "metadata": {
    "papermill": {
     "duration": null,
     "end_time": null,
     "exception": null,
     "start_time": null,
     "status": "pending"
    },
    "tags": []
   },
   "outputs": [],
   "source": [
    "segment_osrm_distance_df=segment_osrm_distance_df.reset_index()"
   ]
  },
  {
   "cell_type": "code",
   "execution_count": null,
   "id": "cc169a5b",
   "metadata": {
    "papermill": {
     "duration": null,
     "end_time": null,
     "exception": null,
     "start_time": null,
     "status": "pending"
    },
    "tags": []
   },
   "outputs": [],
   "source": [
    "fig,axes=plt.subplots(1,2,figsize=(8,4))\n",
    "sns.histplot(x=osrm_distance['osrm_distance'],kde=True,bins=40,ax=axes[0])\n",
    "axes[0].set_title(\"Distribution of OSRM distance\")\n",
    "sns.histplot(x=segment_osrm_distance_df['segment_osrm_distance'],kde=True,bins=40,ax=axes[1])\n",
    "axes[1].set_title(\"Distribution of Segment OSRM distance\")\n",
    "plt.show()"
   ]
  },
  {
   "cell_type": "code",
   "execution_count": null,
   "id": "17d0fb04",
   "metadata": {
    "papermill": {
     "duration": null,
     "end_time": null,
     "exception": null,
     "start_time": null,
     "status": "pending"
    },
    "tags": []
   },
   "outputs": [],
   "source": [
    "kstat,pval=scipy.stats.ks_2samp(osrm_distance['osrm_distance'],segment_osrm_distance_df['segment_osrm_distance'])\n",
    "print(pval)"
   ]
  },
  {
   "cell_type": "code",
   "execution_count": null,
   "id": "723099b7",
   "metadata": {
    "papermill": {
     "duration": null,
     "end_time": null,
     "exception": null,
     "start_time": null,
     "status": "pending"
    },
    "tags": []
   },
   "outputs": [],
   "source": [
    "## As pval is very low the disrtibution of osrm distance and segment_osrm_distance is not the same\n",
    "print(osrm_distance['osrm_distance'].var(),segment_osrm_distance_df['segment_osrm_distance'].var())"
   ]
  },
  {
   "cell_type": "code",
   "execution_count": null,
   "id": "f2a799ed",
   "metadata": {
    "papermill": {
     "duration": null,
     "end_time": null,
     "exception": null,
     "start_time": null,
     "status": "pending"
    },
    "tags": []
   },
   "outputs": [],
   "source": [
    "# H0 : The mean of osrm distance and segment osrm distance will be equal \n",
    "# HA : The mean of osrm distance < mean of segment osrm distance\n",
    "\n",
    "tstat,pval=scipy.stats.ttest_ind(osrm_distance['osrm_distance'],segment_osrm_distance_df['segment_osrm_distance'],\n",
    "                                alternative='less',equal_var=False)\n",
    "\n",
    "if pval<0.05:\n",
    "    print(\"The mean of osrm distance < mean of segment osrm distance\")\n",
    "else:\n",
    "    print(\"The mean of osrm distance and segment osrm distance will be equal\")"
   ]
  },
  {
   "cell_type": "markdown",
   "id": "46e9b549",
   "metadata": {
    "papermill": {
     "duration": null,
     "end_time": null,
     "exception": null,
     "start_time": null,
     "status": "pending"
    },
    "tags": []
   },
   "source": [
    "### Hypothesis testing of OSRM time and segment osrm time"
   ]
  },
  {
   "cell_type": "code",
   "execution_count": null,
   "id": "891f334b",
   "metadata": {
    "papermill": {
     "duration": null,
     "end_time": null,
     "exception": null,
     "start_time": null,
     "status": "pending"
    },
    "tags": []
   },
   "outputs": [],
   "source": [
    "segment_osrm_time_df=segment_osrm_time_df.reset_index()"
   ]
  },
  {
   "cell_type": "code",
   "execution_count": null,
   "id": "7db8d853",
   "metadata": {
    "papermill": {
     "duration": null,
     "end_time": null,
     "exception": null,
     "start_time": null,
     "status": "pending"
    },
    "tags": []
   },
   "outputs": [],
   "source": [
    "print(osrm_time['osrm_time'].var(),segment_osrm_time_df['segment_osrm_time'].var())"
   ]
  },
  {
   "cell_type": "code",
   "execution_count": null,
   "id": "c9d102bb",
   "metadata": {
    "papermill": {
     "duration": null,
     "end_time": null,
     "exception": null,
     "start_time": null,
     "status": "pending"
    },
    "tags": []
   },
   "outputs": [],
   "source": [
    "# H0 : The mean of osrm time and segment osrm time will be equal \n",
    "# HA : The mean of osrm time < mean of segment osrm time\n",
    "\n",
    "tstat,pval=scipy.stats.ttest_ind(osrm_time['osrm_time'],segment_osrm_time_df['segment_osrm_time'],\n",
    "                                alternative='less',equal_var=False)\n",
    "\n",
    "if pval<0.05:\n",
    "    print(\"The mean of osrm time < mean of segment osrm time\")\n",
    "else:\n",
    "    print(\"The mean of osrm time and segment osrm time will be equal\")"
   ]
  },
  {
   "cell_type": "code",
   "execution_count": null,
   "id": "6fc15206",
   "metadata": {
    "papermill": {
     "duration": null,
     "end_time": null,
     "exception": null,
     "start_time": null,
     "status": "pending"
    },
    "tags": []
   },
   "outputs": [],
   "source": [
    "actual_distance_to_destination_df=df_new.groupby('trip_uuid')['actual_distance_to_destination'].max().reset_index()"
   ]
  },
  {
   "cell_type": "markdown",
   "id": "890d0b24",
   "metadata": {
    "papermill": {
     "duration": null,
     "end_time": null,
     "exception": null,
     "start_time": null,
     "status": "pending"
    },
    "tags": []
   },
   "source": [
    "## Merging distances, times and source, destination type into a single dataframe"
   ]
  },
  {
   "cell_type": "code",
   "execution_count": null,
   "id": "b9c54c84",
   "metadata": {
    "papermill": {
     "duration": null,
     "end_time": null,
     "exception": null,
     "start_time": null,
     "status": "pending"
    },
    "tags": []
   },
   "outputs": [],
   "source": [
    "distances=actual_distance_to_destination_df.merge(segment_osrm_distance_df,on='trip_uuid',how='inner')"
   ]
  },
  {
   "cell_type": "code",
   "execution_count": null,
   "id": "2f58c8f2",
   "metadata": {
    "papermill": {
     "duration": null,
     "end_time": null,
     "exception": null,
     "start_time": null,
     "status": "pending"
    },
    "tags": []
   },
   "outputs": [],
   "source": [
    "distances=distances.merge(osrm_distance,on='trip_uuid',how='inner')"
   ]
  },
  {
   "cell_type": "code",
   "execution_count": null,
   "id": "df853d60",
   "metadata": {
    "papermill": {
     "duration": null,
     "end_time": null,
     "exception": null,
     "start_time": null,
     "status": "pending"
    },
    "tags": []
   },
   "outputs": [],
   "source": [
    "time=osrm_time.merge(actual_time_df,on='trip_uuid',how='inner')"
   ]
  },
  {
   "cell_type": "code",
   "execution_count": null,
   "id": "1569d63f",
   "metadata": {
    "papermill": {
     "duration": null,
     "end_time": null,
     "exception": null,
     "start_time": null,
     "status": "pending"
    },
    "tags": []
   },
   "outputs": [],
   "source": [
    "time.merge(segment_osrm_time_df,on='trip_uuid',how='inner')"
   ]
  },
  {
   "cell_type": "code",
   "execution_count": null,
   "id": "ac81e461",
   "metadata": {
    "papermill": {
     "duration": null,
     "end_time": null,
     "exception": null,
     "start_time": null,
     "status": "pending"
    },
    "tags": []
   },
   "outputs": [],
   "source": [
    "time=time.merge(segment_actual_time_df.merge(start_scan_to_end_scan_df,on='trip_uuid',how='inner'),on='trip_uuid',how='inner')"
   ]
  },
  {
   "cell_type": "code",
   "execution_count": null,
   "id": "0f2ea974",
   "metadata": {
    "papermill": {
     "duration": null,
     "end_time": null,
     "exception": null,
     "start_time": null,
     "status": "pending"
    },
    "tags": []
   },
   "outputs": [],
   "source": [
    "time=time.merge(od_time_diff_df.merge(segment_osrm_time_df,on='trip_uuid',how='inner'),on='trip_uuid',how='inner')"
   ]
  },
  {
   "cell_type": "code",
   "execution_count": null,
   "id": "266aad3c",
   "metadata": {
    "papermill": {
     "duration": null,
     "end_time": null,
     "exception": null,
     "start_time": null,
     "status": "pending"
    },
    "tags": []
   },
   "outputs": [],
   "source": [
    "time"
   ]
  },
  {
   "cell_type": "markdown",
   "id": "32ed6334",
   "metadata": {
    "papermill": {
     "duration": null,
     "end_time": null,
     "exception": null,
     "start_time": null,
     "status": "pending"
    },
    "tags": []
   },
   "source": [
    "### Let's now merge time and distances"
   ]
  },
  {
   "cell_type": "code",
   "execution_count": null,
   "id": "e8506498",
   "metadata": {
    "papermill": {
     "duration": null,
     "end_time": null,
     "exception": null,
     "start_time": null,
     "status": "pending"
    },
    "tags": []
   },
   "outputs": [],
   "source": [
    "merged=time.merge(distances,on='trip_uuid',how='inner')"
   ]
  },
  {
   "cell_type": "markdown",
   "id": "da5c928c",
   "metadata": {
    "papermill": {
     "duration": null,
     "end_time": null,
     "exception": null,
     "start_time": null,
     "status": "pending"
    },
    "tags": []
   },
   "source": [
    "### Separating city and state details"
   ]
  },
  {
   "cell_type": "code",
   "execution_count": null,
   "id": "2b63d8c0",
   "metadata": {
    "papermill": {
     "duration": null,
     "end_time": null,
     "exception": null,
     "start_time": null,
     "status": "pending"
    },
    "tags": []
   },
   "outputs": [],
   "source": [
    "df_new.groupby('trip_uuid')[['source_city','destination_city']].agg({'source_city':pd.unique,'destination_city':pd.unique})"
   ]
  },
  {
   "cell_type": "code",
   "execution_count": null,
   "id": "87408437",
   "metadata": {
    "papermill": {
     "duration": null,
     "end_time": null,
     "exception": null,
     "start_time": null,
     "status": "pending"
    },
    "tags": []
   },
   "outputs": [],
   "source": [
    "df_new['source_city']=df_new['source_city'].map({'Hospet (Karnataka)': 'Hospet'}).fillna(df['source_city'])\n"
   ]
  },
  {
   "cell_type": "code",
   "execution_count": null,
   "id": "9a82d5bb",
   "metadata": {
    "papermill": {
     "duration": null,
     "end_time": null,
     "exception": null,
     "start_time": null,
     "status": "pending"
    },
    "tags": []
   },
   "outputs": [],
   "source": [
    "df_new['destination_city']=df_new['destination_city'].map({'Hospet (Karnataka)': 'Hospet'}).fillna(df['destination_city'])"
   ]
  },
  {
   "cell_type": "code",
   "execution_count": null,
   "id": "d8cbdb60",
   "metadata": {
    "papermill": {
     "duration": null,
     "end_time": null,
     "exception": null,
     "start_time": null,
     "status": "pending"
    },
    "tags": []
   },
   "outputs": [],
   "source": []
  },
  {
   "cell_type": "code",
   "execution_count": null,
   "id": "f1bb9a88",
   "metadata": {
    "papermill": {
     "duration": null,
     "end_time": null,
     "exception": null,
     "start_time": null,
     "status": "pending"
    },
    "tags": []
   },
   "outputs": [],
   "source": [
    "city=df_new.groupby('trip_uuid')[['source_city','destination_city']].agg({'source_city':pd.unique,'destination_city':pd.unique})"
   ]
  },
  {
   "cell_type": "code",
   "execution_count": null,
   "id": "4150a56d",
   "metadata": {
    "papermill": {
     "duration": null,
     "end_time": null,
     "exception": null,
     "start_time": null,
     "status": "pending"
    },
    "tags": []
   },
   "outputs": [],
   "source": [
    "city=city.reset_index()"
   ]
  },
  {
   "cell_type": "code",
   "execution_count": null,
   "id": "c54b2a54",
   "metadata": {
    "papermill": {
     "duration": null,
     "end_time": null,
     "exception": null,
     "start_time": null,
     "status": "pending"
    },
    "tags": []
   },
   "outputs": [],
   "source": [
    "state=df_new.groupby('trip_uuid')[['source_state','destination_state']].agg({'source_state':pd.unique,'destination_state':pd.unique}).reset_index()\n"
   ]
  },
  {
   "cell_type": "code",
   "execution_count": null,
   "id": "055a664e",
   "metadata": {
    "papermill": {
     "duration": null,
     "end_time": null,
     "exception": null,
     "start_time": null,
     "status": "pending"
    },
    "tags": []
   },
   "outputs": [],
   "source": [
    "city_state=df_new.groupby('trip_uuid')[['source_city_state','destination_city_state']].agg({'source_city_state':pd.unique,'destination_city_state':pd.unique})"
   ]
  },
  {
   "cell_type": "code",
   "execution_count": null,
   "id": "3f425f2f",
   "metadata": {
    "papermill": {
     "duration": null,
     "end_time": null,
     "exception": null,
     "start_time": null,
     "status": "pending"
    },
    "tags": []
   },
   "outputs": [],
   "source": [
    "city_state=city_state.reset_index()"
   ]
  },
  {
   "cell_type": "markdown",
   "id": "b5fb177f",
   "metadata": {
    "papermill": {
     "duration": null,
     "end_time": null,
     "exception": null,
     "start_time": null,
     "status": "pending"
    },
    "tags": []
   },
   "source": [
    "### Now merging all the location details"
   ]
  },
  {
   "cell_type": "code",
   "execution_count": null,
   "id": "6ff5de3a",
   "metadata": {
    "papermill": {
     "duration": null,
     "end_time": null,
     "exception": null,
     "start_time": null,
     "status": "pending"
    },
    "tags": []
   },
   "outputs": [],
   "source": [
    "location=city.merge(city_state.merge(state,on='trip_uuid',how='inner'),on='trip_uuid',how='inner')"
   ]
  },
  {
   "cell_type": "markdown",
   "id": "dee245d3",
   "metadata": {
    "papermill": {
     "duration": null,
     "end_time": null,
     "exception": null,
     "start_time": null,
     "status": "pending"
    },
    "tags": []
   },
   "source": [
    "### Route type merging"
   ]
  },
  {
   "cell_type": "code",
   "execution_count": null,
   "id": "45b255da",
   "metadata": {
    "papermill": {
     "duration": null,
     "end_time": null,
     "exception": null,
     "start_time": null,
     "status": "pending"
    },
    "tags": []
   },
   "outputs": [],
   "source": [
    "route_type=df_new.groupby('trip_uuid')['route_type'].unique().reset_index()"
   ]
  },
  {
   "cell_type": "code",
   "execution_count": null,
   "id": "e101fb51",
   "metadata": {
    "papermill": {
     "duration": null,
     "end_time": null,
     "exception": null,
     "start_time": null,
     "status": "pending"
    },
    "tags": []
   },
   "outputs": [],
   "source": [
    "merged=route_type.merge(location.merge(merged,on='trip_uuid',how='inner'),on='trip_uuid',how='inner')"
   ]
  },
  {
   "cell_type": "code",
   "execution_count": null,
   "id": "7313a6ba",
   "metadata": {
    "papermill": {
     "duration": null,
     "end_time": null,
     "exception": null,
     "start_time": null,
     "status": "pending"
    },
    "tags": []
   },
   "outputs": [],
   "source": [
    "## Making a copy of merged so that I have a backup\n",
    "trip=merged.copy()"
   ]
  },
  {
   "cell_type": "code",
   "execution_count": null,
   "id": "5b77b916",
   "metadata": {
    "papermill": {
     "duration": null,
     "end_time": null,
     "exception": null,
     "start_time": null,
     "status": "pending"
    },
    "tags": []
   },
   "outputs": [],
   "source": [
    "trip['route_type']=trip['route_type'].apply(lambda x: x[0])"
   ]
  },
  {
   "cell_type": "code",
   "execution_count": null,
   "id": "a83ee2c6",
   "metadata": {
    "papermill": {
     "duration": null,
     "end_time": null,
     "exception": null,
     "start_time": null,
     "status": "pending"
    },
    "tags": []
   },
   "outputs": [],
   "source": [
    "route_schedule=df_new.groupby('trip_uuid')['route_schedule_uuid'].unique().reset_index()"
   ]
  },
  {
   "cell_type": "code",
   "execution_count": null,
   "id": "5cd4de00",
   "metadata": {
    "papermill": {
     "duration": null,
     "end_time": null,
     "exception": null,
     "start_time": null,
     "status": "pending"
    },
    "tags": []
   },
   "outputs": [],
   "source": [
    "trip=trip.merge(route_schedule,on='trip_uuid',how='outer')"
   ]
  },
  {
   "cell_type": "code",
   "execution_count": null,
   "id": "e835ff08",
   "metadata": {
    "papermill": {
     "duration": null,
     "end_time": null,
     "exception": null,
     "start_time": null,
     "status": "pending"
    },
    "tags": []
   },
   "outputs": [],
   "source": [
    "trip['route_schedule_uuid']=trip['route_schedule_uuid'].apply(lambda x: x[0])"
   ]
  },
  {
   "cell_type": "code",
   "execution_count": null,
   "id": "7027f90c",
   "metadata": {
    "papermill": {
     "duration": null,
     "end_time": null,
     "exception": null,
     "start_time": null,
     "status": "pending"
    },
    "tags": []
   },
   "outputs": [],
   "source": [
    "trip"
   ]
  },
  {
   "cell_type": "markdown",
   "id": "ab29af90",
   "metadata": {
    "papermill": {
     "duration": null,
     "end_time": null,
     "exception": null,
     "start_time": null,
     "status": "pending"
    },
    "tags": []
   },
   "source": [
    "### Missing values check in the newly created dataframe"
   ]
  },
  {
   "cell_type": "code",
   "execution_count": null,
   "id": "d8cbabe2",
   "metadata": {
    "papermill": {
     "duration": null,
     "end_time": null,
     "exception": null,
     "start_time": null,
     "status": "pending"
    },
    "tags": []
   },
   "outputs": [],
   "source": [
    "trip.isna().sum()"
   ]
  },
  {
   "cell_type": "markdown",
   "id": "47b1aac5",
   "metadata": {
    "papermill": {
     "duration": null,
     "end_time": null,
     "exception": null,
     "start_time": null,
     "status": "pending"
    },
    "tags": []
   },
   "source": [
    "### Converting the lists into string and removing the brackets"
   ]
  },
  {
   "cell_type": "code",
   "execution_count": null,
   "id": "a5e8d5c9",
   "metadata": {
    "papermill": {
     "duration": null,
     "end_time": null,
     "exception": null,
     "start_time": null,
     "status": "pending"
    },
    "tags": []
   },
   "outputs": [],
   "source": [
    " trip[\"source_city\"].astype(\"str\").str.strip(\"[]\").str.replace(\"'\",\"\")"
   ]
  },
  {
   "cell_type": "code",
   "execution_count": null,
   "id": "98f3f54a",
   "metadata": {
    "papermill": {
     "duration": null,
     "end_time": null,
     "exception": null,
     "start_time": null,
     "status": "pending"
    },
    "tags": []
   },
   "outputs": [],
   "source": [
    "trip['source_city']=trip[\"source_city\"].astype(\"str\").str.strip(\"[]\").str.replace(\"'\",\"\")"
   ]
  },
  {
   "cell_type": "code",
   "execution_count": null,
   "id": "76fdd7b3",
   "metadata": {
    "papermill": {
     "duration": null,
     "end_time": null,
     "exception": null,
     "start_time": null,
     "status": "pending"
    },
    "tags": []
   },
   "outputs": [],
   "source": [
    "trip[\"destination_city\"] = trip[\"destination_city\"].astype(\"str\").str.strip(\"[]\").str.replace(\"'\",\"\")\n",
    "trip[\"source_city_state\"] = trip[\"source_city_state\"].astype(\"str\").str.strip(\"[]\").str.replace(\"'\",\"\")\n",
    "trip[\"destination_city_state\"] = trip[\"destination_city_state\"].astype(\"str\").str.strip(\"[]\").str.replace(\"'\",\"\")\n",
    "\n",
    "trip[\"source_state\"] = trip[\"source_state\"].astype(\"str\").str.strip(\"[]\").str.replace(\"'\",\"\")\n",
    "trip[\"destination_state\"] = trip[\"destination_state\"].astype(\"str\").str.strip(\"[]\").str.replace(\"'\",\"\")"
   ]
  },
  {
   "cell_type": "code",
   "execution_count": null,
   "id": "b65363af",
   "metadata": {
    "papermill": {
     "duration": null,
     "end_time": null,
     "exception": null,
     "start_time": null,
     "status": "pending"
    },
    "tags": []
   },
   "outputs": [],
   "source": [
    "trip.head()"
   ]
  },
  {
   "cell_type": "code",
   "execution_count": null,
   "id": "6a988554",
   "metadata": {
    "papermill": {
     "duration": null,
     "end_time": null,
     "exception": null,
     "start_time": null,
     "status": "pending"
    },
    "tags": []
   },
   "outputs": [],
   "source": [
    "trp_creation=df_new.groupby('trip_uuid')['trip_creation_time'].unique().reset_index()"
   ]
  },
  {
   "cell_type": "code",
   "execution_count": null,
   "id": "5e9ce9b0",
   "metadata": {
    "papermill": {
     "duration": null,
     "end_time": null,
     "exception": null,
     "start_time": null,
     "status": "pending"
    },
    "tags": []
   },
   "outputs": [],
   "source": [
    "trp_creation['trip_creation_time']=trp_creation['trip_creation_time'].apply(lambda x: x[0])"
   ]
  },
  {
   "cell_type": "code",
   "execution_count": null,
   "id": "ae4d107a",
   "metadata": {
    "papermill": {
     "duration": null,
     "end_time": null,
     "exception": null,
     "start_time": null,
     "status": "pending"
    },
    "tags": []
   },
   "outputs": [],
   "source": [
    "trip=trip.merge(trp_creation,on='trip_uuid',how='outer')"
   ]
  },
  {
   "cell_type": "code",
   "execution_count": null,
   "id": "152452b1",
   "metadata": {
    "papermill": {
     "duration": null,
     "end_time": null,
     "exception": null,
     "start_time": null,
     "status": "pending"
    },
    "tags": []
   },
   "outputs": [],
   "source": [
    "# Taking trip creation year in separate column\n",
    "trip['creation_year']=trip['trip_creation_time'].dt.year"
   ]
  },
  {
   "cell_type": "code",
   "execution_count": null,
   "id": "f43226b4",
   "metadata": {
    "papermill": {
     "duration": null,
     "end_time": null,
     "exception": null,
     "start_time": null,
     "status": "pending"
    },
    "tags": []
   },
   "outputs": [],
   "source": [
    "# Taking trip creation month and trip creation day in separate column\n",
    "trip['creation_month']=trip['trip_creation_time'].dt.month_name()"
   ]
  },
  {
   "cell_type": "code",
   "execution_count": null,
   "id": "d5ae5337",
   "metadata": {
    "papermill": {
     "duration": null,
     "end_time": null,
     "exception": null,
     "start_time": null,
     "status": "pending"
    },
    "tags": []
   },
   "outputs": [],
   "source": [
    "trip['creation_day']=trip['trip_creation_time'].dt.day_name()"
   ]
  },
  {
   "cell_type": "code",
   "execution_count": null,
   "id": "2714d6a5",
   "metadata": {
    "papermill": {
     "duration": null,
     "end_time": null,
     "exception": null,
     "start_time": null,
     "status": "pending"
    },
    "tags": []
   },
   "outputs": [],
   "source": [
    "trip['creation_year']=trip['creation_year'].astype('category')"
   ]
  },
  {
   "cell_type": "code",
   "execution_count": null,
   "id": "e540b003",
   "metadata": {
    "papermill": {
     "duration": null,
     "end_time": null,
     "exception": null,
     "start_time": null,
     "status": "pending"
    },
    "tags": []
   },
   "outputs": [],
   "source": [
    "## Filtering numerical data\n",
    "\n",
    "trip.select_dtypes('number')"
   ]
  },
  {
   "cell_type": "markdown",
   "id": "ae9d75fa",
   "metadata": {
    "papermill": {
     "duration": null,
     "end_time": null,
     "exception": null,
     "start_time": null,
     "status": "pending"
    },
    "tags": []
   },
   "source": [
    "## Correlation of numerical value columns"
   ]
  },
  {
   "cell_type": "code",
   "execution_count": null,
   "id": "0911ebe8",
   "metadata": {
    "papermill": {
     "duration": null,
     "end_time": null,
     "exception": null,
     "start_time": null,
     "status": "pending"
    },
    "tags": []
   },
   "outputs": [],
   "source": [
    "correlation_matrix=trip.select_dtypes('number').corr()"
   ]
  },
  {
   "cell_type": "code",
   "execution_count": null,
   "id": "6b4b0146",
   "metadata": {
    "papermill": {
     "duration": null,
     "end_time": null,
     "exception": null,
     "start_time": null,
     "status": "pending"
    },
    "tags": []
   },
   "outputs": [],
   "source": [
    "sns.heatmap(correlation_matrix,annot=True)\n",
    "plt.show()"
   ]
  },
  {
   "cell_type": "code",
   "execution_count": null,
   "id": "a136a4fe",
   "metadata": {
    "papermill": {
     "duration": null,
     "end_time": null,
     "exception": null,
     "start_time": null,
     "status": "pending"
    },
    "tags": []
   },
   "outputs": [],
   "source": [
    "## Plotting boxplots to check outliers in the numerical columns\n",
    "numerical_cols=trip.select_dtypes('number').columns.to_list()"
   ]
  },
  {
   "cell_type": "code",
   "execution_count": null,
   "id": "4b21849c",
   "metadata": {
    "papermill": {
     "duration": null,
     "end_time": null,
     "exception": null,
     "start_time": null,
     "status": "pending"
    },
    "tags": []
   },
   "outputs": [],
   "source": [
    "fig,axes=plt.subplots(9,1,figsize=(6,100))\n",
    "for i in range(len(numerical_cols)):\n",
    "        sns.boxplot(y=trip[numerical_cols[i]],ax=axes[i])\n",
    "        axes[i].set_title(f\"Boxplot of {numerical_cols[i]}\")\n",
    "plt.show()"
   ]
  },
  {
   "cell_type": "markdown",
   "id": "c2d627f6",
   "metadata": {
    "papermill": {
     "duration": null,
     "end_time": null,
     "exception": null,
     "start_time": null,
     "status": "pending"
    },
    "tags": []
   },
   "source": [
    "## There are so many outliers in each and every numerical column"
   ]
  },
  {
   "cell_type": "markdown",
   "id": "91173695",
   "metadata": {
    "papermill": {
     "duration": null,
     "end_time": null,
     "exception": null,
     "start_time": null,
     "status": "pending"
    },
    "tags": []
   },
   "source": [
    "## Outlier treatment"
   ]
  },
  {
   "cell_type": "code",
   "execution_count": null,
   "id": "6be8e673",
   "metadata": {
    "papermill": {
     "duration": null,
     "end_time": null,
     "exception": null,
     "start_time": null,
     "status": "pending"
    },
    "tags": []
   },
   "outputs": [],
   "source": [
    "num_df2=trip.select_dtypes('number')"
   ]
  },
  {
   "cell_type": "code",
   "execution_count": null,
   "id": "08e6cc60",
   "metadata": {
    "papermill": {
     "duration": null,
     "end_time": null,
     "exception": null,
     "start_time": null,
     "status": "pending"
    },
    "tags": []
   },
   "outputs": [],
   "source": [
    "q1=num_df2.quantile(0.25)\n",
    "q1"
   ]
  },
  {
   "cell_type": "code",
   "execution_count": null,
   "id": "43876778",
   "metadata": {
    "papermill": {
     "duration": null,
     "end_time": null,
     "exception": null,
     "start_time": null,
     "status": "pending"
    },
    "tags": []
   },
   "outputs": [],
   "source": [
    "q3=num_df2.quantile(0.75)\n",
    "q3"
   ]
  },
  {
   "cell_type": "code",
   "execution_count": null,
   "id": "4cab0a36",
   "metadata": {
    "papermill": {
     "duration": null,
     "end_time": null,
     "exception": null,
     "start_time": null,
     "status": "pending"
    },
    "tags": []
   },
   "outputs": [],
   "source": [
    "iqr=q3-q1"
   ]
  },
  {
   "cell_type": "code",
   "execution_count": null,
   "id": "08392779",
   "metadata": {
    "papermill": {
     "duration": null,
     "end_time": null,
     "exception": null,
     "start_time": null,
     "status": "pending"
    },
    "tags": []
   },
   "outputs": [],
   "source": [
    "iqr"
   ]
  },
  {
   "cell_type": "code",
   "execution_count": null,
   "id": "43e8a17d",
   "metadata": {
    "papermill": {
     "duration": null,
     "end_time": null,
     "exception": null,
     "start_time": null,
     "status": "pending"
    },
    "tags": []
   },
   "outputs": [],
   "source": [
    "outliers=num_df2[((num_df2<(q1-((1.5)*iqr))) | (num_df2>(q3+((1.5)*iqr))))]"
   ]
  },
  {
   "cell_type": "code",
   "execution_count": null,
   "id": "ddaa564c",
   "metadata": {
    "papermill": {
     "duration": null,
     "end_time": null,
     "exception": null,
     "start_time": null,
     "status": "pending"
    },
    "tags": []
   },
   "outputs": [],
   "source": [
    "# Outliers dataframe has only outliers currently\n",
    "outliers=outliers.dropna(how='any')"
   ]
  },
  {
   "cell_type": "markdown",
   "id": "74e4c944",
   "metadata": {
    "papermill": {
     "duration": null,
     "end_time": null,
     "exception": null,
     "start_time": null,
     "status": "pending"
    },
    "tags": []
   },
   "source": [
    "## Removing all the rows of outliers from the original trip dataframe"
   ]
  },
  {
   "cell_type": "code",
   "execution_count": null,
   "id": "d531e1e6",
   "metadata": {
    "papermill": {
     "duration": null,
     "end_time": null,
     "exception": null,
     "start_time": null,
     "status": "pending"
    },
    "tags": []
   },
   "outputs": [],
   "source": [
    "outliers.index"
   ]
  },
  {
   "cell_type": "code",
   "execution_count": null,
   "id": "458a8a1f",
   "metadata": {
    "papermill": {
     "duration": null,
     "end_time": null,
     "exception": null,
     "start_time": null,
     "status": "pending"
    },
    "tags": []
   },
   "outputs": [],
   "source": [
    "trip.drop(outliers.index,inplace=True)"
   ]
  },
  {
   "cell_type": "code",
   "execution_count": null,
   "id": "bc50cccb",
   "metadata": {
    "papermill": {
     "duration": null,
     "end_time": null,
     "exception": null,
     "start_time": null,
     "status": "pending"
    },
    "tags": []
   },
   "outputs": [],
   "source": [
    "## This is a dataframe without outliers\n",
    "trip"
   ]
  },
  {
   "cell_type": "code",
   "execution_count": null,
   "id": "1fd2e64f",
   "metadata": {
    "papermill": {
     "duration": null,
     "end_time": null,
     "exception": null,
     "start_time": null,
     "status": "pending"
    },
    "tags": []
   },
   "outputs": [],
   "source": [
    "trip_without_outliers=trip.copy()"
   ]
  },
  {
   "cell_type": "markdown",
   "id": "b4c48669",
   "metadata": {
    "papermill": {
     "duration": null,
     "end_time": null,
     "exception": null,
     "start_time": null,
     "status": "pending"
    },
    "tags": []
   },
   "source": [
    "### Merging location details into a single column"
   ]
  },
  {
   "cell_type": "code",
   "execution_count": null,
   "id": "e9f0327c",
   "metadata": {
    "papermill": {
     "duration": null,
     "end_time": null,
     "exception": null,
     "start_time": null,
     "status": "pending"
    },
    "tags": []
   },
   "outputs": [],
   "source": [
    "trip_without_outliers['destination_source_locations']=trip_without_outliers['source_city_state']+ \" \"+ trip_without_outliers['destination_city_state']"
   ]
  },
  {
   "cell_type": "code",
   "execution_count": null,
   "id": "ec77f290",
   "metadata": {
    "papermill": {
     "duration": null,
     "end_time": null,
     "exception": null,
     "start_time": null,
     "status": "pending"
    },
    "tags": []
   },
   "outputs": [],
   "source": [
    "trip_without_outliers.drop(columns=['source_city_state','destination_city_state'],inplace=True)"
   ]
  },
  {
   "cell_type": "code",
   "execution_count": null,
   "id": "72a2ef29",
   "metadata": {
    "papermill": {
     "duration": null,
     "end_time": null,
     "exception": null,
     "start_time": null,
     "status": "pending"
    },
    "tags": []
   },
   "outputs": [],
   "source": [
    "trip_without_outliers.groupby('destination_source_locations')['trip_uuid'].nunique().sort_values(ascending=False).reset_index()"
   ]
  },
  {
   "cell_type": "code",
   "execution_count": null,
   "id": "dceb8af6",
   "metadata": {
    "papermill": {
     "duration": null,
     "end_time": null,
     "exception": null,
     "start_time": null,
     "status": "pending"
    },
    "tags": []
   },
   "outputs": [],
   "source": [
    "sd_df=trip_without_outliers.groupby('destination_source_locations')['trip_uuid'].nunique().sort_values(ascending=False).reset_index()"
   ]
  },
  {
   "cell_type": "markdown",
   "id": "afb59ea1",
   "metadata": {
    "papermill": {
     "duration": null,
     "end_time": null,
     "exception": null,
     "start_time": null,
     "status": "pending"
    },
    "tags": []
   },
   "source": [
    "### Categorising Based on the count of unique trip ids for different destination and source locations."
   ]
  },
  {
   "cell_type": "code",
   "execution_count": null,
   "id": "36bf1d40",
   "metadata": {
    "papermill": {
     "duration": null,
     "end_time": null,
     "exception": null,
     "start_time": null,
     "status": "pending"
    },
    "tags": []
   },
   "outputs": [],
   "source": [
    "def get_cat(H):\n",
    "    if 0 <= H <= 50:\n",
    "        return \"Category 7\"\n",
    "    elif 51 <= H <= 100:\n",
    "        return \"Category 6\"\n",
    "    elif 101 <= H <= 200:\n",
    "        return \"Category 5\"\n",
    "    elif 201 <= H <= 300:\n",
    "        return \"Category 4\"\n",
    "    elif 301 <= H <= 400:\n",
    "        return \"Category 3\"\n",
    "    elif 401 <= H <= 500:\n",
    "        return \"Category 2\"\n",
    "    else:\n",
    "        return \"Category 1\"\n",
    "    \n",
    "sd_df['category']=sd_df['trip_uuid'].apply(get_cat)"
   ]
  },
  {
   "cell_type": "code",
   "execution_count": null,
   "id": "e36157bf",
   "metadata": {
    "papermill": {
     "duration": null,
     "end_time": null,
     "exception": null,
     "start_time": null,
     "status": "pending"
    },
    "tags": []
   },
   "outputs": [],
   "source": [
    "sd_df"
   ]
  },
  {
   "cell_type": "code",
   "execution_count": null,
   "id": "735576e2",
   "metadata": {
    "papermill": {
     "duration": null,
     "end_time": null,
     "exception": null,
     "start_time": null,
     "status": "pending"
    },
    "tags": []
   },
   "outputs": [],
   "source": [
    "### Merging the categories created with the dataframe without outliers\n",
    "encoding_df=trip_without_outliers.merge(sd_df,on='destination_source_locations')\n",
    "encoding_df"
   ]
  },
  {
   "cell_type": "code",
   "execution_count": null,
   "id": "dd3084ad",
   "metadata": {
    "papermill": {
     "duration": null,
     "end_time": null,
     "exception": null,
     "start_time": null,
     "status": "pending"
    },
    "tags": []
   },
   "outputs": [],
   "source": [
    "encoding_df.drop(columns=['trip_uuid_x','trip_uuid_y','destination_source_locations'],inplace=True)"
   ]
  },
  {
   "cell_type": "code",
   "execution_count": null,
   "id": "63de22b3",
   "metadata": {
    "papermill": {
     "duration": null,
     "end_time": null,
     "exception": null,
     "start_time": null,
     "status": "pending"
    },
    "tags": []
   },
   "outputs": [],
   "source": [
    "encoding_df"
   ]
  },
  {
   "cell_type": "code",
   "execution_count": null,
   "id": "706cb5b9",
   "metadata": {
    "papermill": {
     "duration": null,
     "end_time": null,
     "exception": null,
     "start_time": null,
     "status": "pending"
    },
    "tags": []
   },
   "outputs": [],
   "source": [
    "## renaming the above category column to city category\n",
    "encoding_df.rename(columns={'category': 'city_category'}, inplace=True)"
   ]
  },
  {
   "cell_type": "code",
   "execution_count": null,
   "id": "372c7f0d",
   "metadata": {
    "papermill": {
     "duration": null,
     "end_time": null,
     "exception": null,
     "start_time": null,
     "status": "pending"
    },
    "tags": []
   },
   "outputs": [],
   "source": [
    "encoding_df"
   ]
  },
  {
   "cell_type": "markdown",
   "id": "d7ff4a10",
   "metadata": {
    "papermill": {
     "duration": null,
     "end_time": null,
     "exception": null,
     "start_time": null,
     "status": "pending"
    },
    "tags": []
   },
   "source": [
    "### Performing one hot encoding on route type and city category using the get_dummies function of pandas"
   ]
  },
  {
   "cell_type": "code",
   "execution_count": null,
   "id": "5288bc9f",
   "metadata": {
    "papermill": {
     "duration": null,
     "end_time": null,
     "exception": null,
     "start_time": null,
     "status": "pending"
    },
    "tags": []
   },
   "outputs": [],
   "source": [
    "pd.get_dummies(encoding_df,columns=['route_type','city_category'])"
   ]
  },
  {
   "cell_type": "code",
   "execution_count": null,
   "id": "8fb92938",
   "metadata": {
    "papermill": {
     "duration": null,
     "end_time": null,
     "exception": null,
     "start_time": null,
     "status": "pending"
    },
    "tags": []
   },
   "outputs": [],
   "source": [
    "encoded_data=pd.get_dummies(encoding_df,columns=['route_type','city_category'])"
   ]
  },
  {
   "cell_type": "markdown",
   "id": "e240aaea",
   "metadata": {
    "papermill": {
     "duration": null,
     "end_time": null,
     "exception": null,
     "start_time": null,
     "status": "pending"
    },
    "tags": []
   },
   "source": [
    "### Standardization using MinMaxScaler and StandardScaler"
   ]
  },
  {
   "cell_type": "code",
   "execution_count": null,
   "id": "f3bafe98",
   "metadata": {
    "papermill": {
     "duration": null,
     "end_time": null,
     "exception": null,
     "start_time": null,
     "status": "pending"
    },
    "tags": []
   },
   "outputs": [],
   "source": [
    "# All the numerical columns will be standardized\n",
    "num=encoding_df.select_dtypes('number').columns.to_list()"
   ]
  },
  {
   "cell_type": "code",
   "execution_count": null,
   "id": "57ff4cd9",
   "metadata": {
    "papermill": {
     "duration": null,
     "end_time": null,
     "exception": null,
     "start_time": null,
     "status": "pending"
    },
    "tags": []
   },
   "outputs": [],
   "source": [
    "from sklearn.preprocessing import StandardScaler\n",
    "from sklearn.preprocessing import MinMaxScaler\n",
    "\n",
    "scaler=StandardScaler()\n",
    "\n",
    "std_data=scaler.fit_transform(encoded_data[num])\n",
    "\n"
   ]
  },
  {
   "cell_type": "code",
   "execution_count": null,
   "id": "c4cc1c6b",
   "metadata": {
    "papermill": {
     "duration": null,
     "end_time": null,
     "exception": null,
     "start_time": null,
     "status": "pending"
    },
    "tags": []
   },
   "outputs": [],
   "source": [
    "type(std_data)"
   ]
  },
  {
   "cell_type": "code",
   "execution_count": null,
   "id": "d289d576",
   "metadata": {
    "papermill": {
     "duration": null,
     "end_time": null,
     "exception": null,
     "start_time": null,
     "status": "pending"
    },
    "tags": []
   },
   "outputs": [],
   "source": [
    "## Converting Std_data from array to dataframe\n",
    "pd.DataFrame(std_data,columns=num)"
   ]
  },
  {
   "cell_type": "code",
   "execution_count": null,
   "id": "7572d488",
   "metadata": {
    "papermill": {
     "duration": null,
     "end_time": null,
     "exception": null,
     "start_time": null,
     "status": "pending"
    },
    "tags": []
   },
   "outputs": [],
   "source": [
    "std_data=pd.DataFrame(std_data,columns=num)"
   ]
  },
  {
   "cell_type": "code",
   "execution_count": null,
   "id": "b1b2eb09",
   "metadata": {
    "papermill": {
     "duration": null,
     "end_time": null,
     "exception": null,
     "start_time": null,
     "status": "pending"
    },
    "tags": []
   },
   "outputs": [],
   "source": [
    "# Using of Minmax scaler\n",
    "scaler=MinMaxScaler()\n",
    "\n",
    "minmax_data=scaler.fit_transform(encoded_data[num])"
   ]
  },
  {
   "cell_type": "code",
   "execution_count": null,
   "id": "481f5eac",
   "metadata": {
    "papermill": {
     "duration": null,
     "end_time": null,
     "exception": null,
     "start_time": null,
     "status": "pending"
    },
    "tags": []
   },
   "outputs": [],
   "source": [
    "# Converting minmax data from array to Dataframe\n",
    "minmax_data=pd.DataFrame(minmax_data,columns=num)"
   ]
  },
  {
   "cell_type": "markdown",
   "id": "096a7262",
   "metadata": {
    "papermill": {
     "duration": null,
     "end_time": null,
     "exception": null,
     "start_time": null,
     "status": "pending"
    },
    "tags": []
   },
   "source": [
    "### Concatenating the minmax_data with the one hot encoded columns of route type and city category"
   ]
  },
  {
   "cell_type": "code",
   "execution_count": null,
   "id": "0ff91f3c",
   "metadata": {
    "papermill": {
     "duration": null,
     "end_time": null,
     "exception": null,
     "start_time": null,
     "status": "pending"
    },
    "tags": []
   },
   "outputs": [],
   "source": [
    "pd.concat([minmax_data,encoded_data[[\"route_type_Carting\",\"route_type_FTL\",\"city_category_Category 1\",\n",
    " \"city_category_Category 3\",\"city_category_Category 4\",\"city_category_Category 5\",\n",
    " \"city_category_Category 6\",\"city_category_Category 7\"]]],axis=1)"
   ]
  },
  {
   "cell_type": "code",
   "execution_count": null,
   "id": "0f2862f8",
   "metadata": {
    "papermill": {
     "duration": null,
     "end_time": null,
     "exception": null,
     "start_time": null,
     "status": "pending"
    },
    "tags": []
   },
   "outputs": [],
   "source": [
    "minmax_df=pd.concat([minmax_data,encoded_data[[\"route_type_Carting\",\"route_type_FTL\",\"city_category_Category 1\",\n",
    " \"city_category_Category 3\",\"city_category_Category 4\",\"city_category_Category 5\",\n",
    " \"city_category_Category 6\",\"city_category_Category 7\"]]],axis=1)"
   ]
  },
  {
   "cell_type": "markdown",
   "id": "4d040280",
   "metadata": {
    "papermill": {
     "duration": null,
     "end_time": null,
     "exception": null,
     "start_time": null,
     "status": "pending"
    },
    "tags": []
   },
   "source": [
    "### Concatenating the std_data with one hot encoded columns of route type and city category"
   ]
  },
  {
   "cell_type": "code",
   "execution_count": null,
   "id": "5f8194eb",
   "metadata": {
    "papermill": {
     "duration": null,
     "end_time": null,
     "exception": null,
     "start_time": null,
     "status": "pending"
    },
    "tags": []
   },
   "outputs": [],
   "source": [
    "standard_df=pd.concat([std_data,encoded_data[[\"route_type_Carting\",\"route_type_FTL\",\"city_category_Category 1\",\n",
    " \"city_category_Category 3\",\"city_category_Category 4\",\"city_category_Category 5\",\n",
    " \"city_category_Category 6\",\"city_category_Category 7\"]]],axis=1)"
   ]
  },
  {
   "cell_type": "markdown",
   "id": "099881a7",
   "metadata": {
    "papermill": {
     "duration": null,
     "end_time": null,
     "exception": null,
     "start_time": null,
     "status": "pending"
    },
    "tags": []
   },
   "source": [
    "## Route analysis"
   ]
  },
  {
   "cell_type": "code",
   "execution_count": null,
   "id": "87f08194",
   "metadata": {
    "papermill": {
     "duration": null,
     "end_time": null,
     "exception": null,
     "start_time": null,
     "status": "pending"
    },
    "tags": []
   },
   "outputs": [],
   "source": [
    "A = df_new.groupby(\"route_schedule_uuid\")[\"route_type\"].unique().reset_index()"
   ]
  },
  {
   "cell_type": "code",
   "execution_count": null,
   "id": "ae9ef047",
   "metadata": {
    "papermill": {
     "duration": null,
     "end_time": null,
     "exception": null,
     "start_time": null,
     "status": "pending"
    },
    "tags": []
   },
   "outputs": [],
   "source": [
    "B = df_new.groupby('route_schedule_uuid')['destination_city'].unique().reset_index()"
   ]
  },
  {
   "cell_type": "code",
   "execution_count": null,
   "id": "25412c44",
   "metadata": {
    "papermill": {
     "duration": null,
     "end_time": null,
     "exception": null,
     "start_time": null,
     "status": "pending"
    },
    "tags": []
   },
   "outputs": [],
   "source": [
    "B"
   ]
  },
  {
   "cell_type": "code",
   "execution_count": null,
   "id": "0f49699e",
   "metadata": {
    "papermill": {
     "duration": null,
     "end_time": null,
     "exception": null,
     "start_time": null,
     "status": "pending"
    },
    "tags": []
   },
   "outputs": [],
   "source": [
    "B.rename(columns={'destination_city':'destination_cities'},inplace=True)"
   ]
  },
  {
   "cell_type": "code",
   "execution_count": null,
   "id": "5f6dbfd8",
   "metadata": {
    "papermill": {
     "duration": null,
     "end_time": null,
     "exception": null,
     "start_time": null,
     "status": "pending"
    },
    "tags": []
   },
   "outputs": [],
   "source": [
    "C = df_new.groupby(\"route_schedule_uuid\")[\"source_city\"].unique().reset_index()\n",
    "C.columns = [\"route_schedule_uuid\",\"source_cities\"]"
   ]
  },
  {
   "cell_type": "code",
   "execution_count": null,
   "id": "ffb4857f",
   "metadata": {
    "papermill": {
     "duration": null,
     "end_time": null,
     "exception": null,
     "start_time": null,
     "status": "pending"
    },
    "tags": []
   },
   "outputs": [],
   "source": [
    "D = df_new.groupby(\"route_schedule_uuid\")[\"source_state\"].unique().reset_index()\n",
    "D.columns = [\"route_schedule_uuid\",\"source_states\"]"
   ]
  },
  {
   "cell_type": "code",
   "execution_count": null,
   "id": "08978f9d",
   "metadata": {
    "papermill": {
     "duration": null,
     "end_time": null,
     "exception": null,
     "start_time": null,
     "status": "pending"
    },
    "tags": []
   },
   "outputs": [],
   "source": [
    "E = df_new.groupby(\"route_schedule_uuid\")[\"destination_state\"].unique().reset_index()\n",
    "E.columns = [\"route_schedule_uuid\",\"destination_states\"]"
   ]
  },
  {
   "cell_type": "code",
   "execution_count": null,
   "id": "d3311d61",
   "metadata": {
    "papermill": {
     "duration": null,
     "end_time": null,
     "exception": null,
     "start_time": null,
     "status": "pending"
    },
    "tags": []
   },
   "outputs": [],
   "source": [
    "df_new.groupby(\"route_schedule_uuid\")[[\"source_state\",\n",
    "                                         \"destination_state\"]].nunique().sort_values(by=\"source_state\",\n",
    "                                                                                     ascending=False).reset_index()"
   ]
  },
  {
   "cell_type": "code",
   "execution_count": null,
   "id": "384321ee",
   "metadata": {
    "papermill": {
     "duration": null,
     "end_time": null,
     "exception": null,
     "start_time": null,
     "status": "pending"
    },
    "tags": []
   },
   "outputs": [],
   "source": [
    "F=df_new.groupby(\"route_schedule_uuid\")[[\"source_state\",\n",
    "                                         \"destination_state\"]].nunique().sort_values(by=\"source_state\",\n",
    "                                                                                     ascending=False).reset_index()"
   ]
  },
  {
   "cell_type": "code",
   "execution_count": null,
   "id": "ce607d4d",
   "metadata": {
    "papermill": {
     "duration": null,
     "end_time": null,
     "exception": null,
     "start_time": null,
     "status": "pending"
    },
    "tags": []
   },
   "outputs": [],
   "source": [
    "F.columns = [\"route_schedule_uuid\",\"#source_states\"\n",
    "             ,\"#destination_states\"]"
   ]
  },
  {
   "cell_type": "code",
   "execution_count": null,
   "id": "97425f19",
   "metadata": {
    "papermill": {
     "duration": null,
     "end_time": null,
     "exception": null,
     "start_time": null,
     "status": "pending"
    },
    "tags": []
   },
   "outputs": [],
   "source": [
    "trip.groupby(\"route_schedule_uuid\")[\"actual_distance_to_destination\"].mean().reset_index()"
   ]
  },
  {
   "cell_type": "code",
   "execution_count": null,
   "id": "68d676cb",
   "metadata": {
    "papermill": {
     "duration": null,
     "end_time": null,
     "exception": null,
     "start_time": null,
     "status": "pending"
    },
    "tags": []
   },
   "outputs": [],
   "source": [
    "G =trip.groupby(\"route_schedule_uuid\")[\"actual_distance_to_destination\"].mean().reset_index()\n",
    "G.columns = [\"route_schedule_uuid\",\"Average_Actual_distance_to_destination\"]"
   ]
  },
  {
   "cell_type": "code",
   "execution_count": null,
   "id": "aea225fa",
   "metadata": {
    "papermill": {
     "duration": null,
     "end_time": null,
     "exception": null,
     "start_time": null,
     "status": "pending"
    },
    "tags": []
   },
   "outputs": [],
   "source": [
    "H=trip[\"route_schedule_uuid\"].value_counts().reset_index()\n",
    "H.columns = [\"route_schedule_uuid\",\"Number_of_Trips\"]"
   ]
  },
  {
   "cell_type": "code",
   "execution_count": null,
   "id": "8d4100fe",
   "metadata": {
    "papermill": {
     "duration": null,
     "end_time": null,
     "exception": null,
     "start_time": null,
     "status": "pending"
    },
    "tags": []
   },
   "outputs": [],
   "source": [
    "I=df_new.groupby(\"route_schedule_uuid\")[[\"source_city\",\n",
    "                                         \"destination_city\"]].nunique().sort_values(by=\"source_city\",\n",
    "                                                                                     ascending=False).reset_index()"
   ]
  },
  {
   "cell_type": "code",
   "execution_count": null,
   "id": "97963971",
   "metadata": {
    "papermill": {
     "duration": null,
     "end_time": null,
     "exception": null,
     "start_time": null,
     "status": "pending"
    },
    "tags": []
   },
   "outputs": [],
   "source": [
    "I.columns = [\"route_schedule_uuid\",\"#source_cities\"\n",
    "             ,\"#destination_cities\"]"
   ]
  },
  {
   "cell_type": "markdown",
   "id": "caef0f79",
   "metadata": {
    "papermill": {
     "duration": null,
     "end_time": null,
     "exception": null,
     "start_time": null,
     "status": "pending"
    },
    "tags": []
   },
   "source": [
    "## Merging all the alphbet dataframes "
   ]
  },
  {
   "cell_type": "code",
   "execution_count": null,
   "id": "8393eb7a",
   "metadata": {
    "papermill": {
     "duration": null,
     "end_time": null,
     "exception": null,
     "start_time": null,
     "status": "pending"
    },
    "tags": []
   },
   "outputs": [],
   "source": [
    "I.merge(H.merge(G.merge(F.merge(E.merge(D.merge(C.merge(A.merge(B,\n",
    "        on =\"route_schedule_uuid\",\n",
    "        how = \"outer\"),on =\"route_schedule_uuid\",\n",
    "        how = \"outer\"),\n",
    "       on =\"route_schedule_uuid\",\n",
    "        how = \"outer\"),\n",
    "       on =\"route_schedule_uuid\",\n",
    "        how = \"outer\"),\n",
    "       on =\"route_schedule_uuid\",\n",
    "        how = \"outer\"),\n",
    "       on =\"route_schedule_uuid\",\n",
    "        how = \"outer\"),\n",
    "       on =\"route_schedule_uuid\",\n",
    "        how = \"outer\"),on =\"route_schedule_uuid\",\n",
    "        how = \"outer\")"
   ]
  },
  {
   "cell_type": "code",
   "execution_count": null,
   "id": "95ab65f2",
   "metadata": {
    "papermill": {
     "duration": null,
     "end_time": null,
     "exception": null,
     "start_time": null,
     "status": "pending"
    },
    "tags": []
   },
   "outputs": [],
   "source": [
    "route_records = I.merge(H.merge(G.merge(F.merge(E.merge(D.merge(C.merge(A.merge(B,\n",
    "        on =\"route_schedule_uuid\",\n",
    "        how = \"outer\"),on =\"route_schedule_uuid\",\n",
    "        how = \"outer\"),\n",
    "       on =\"route_schedule_uuid\",\n",
    "        how = \"outer\"),\n",
    "       on =\"route_schedule_uuid\",\n",
    "        how = \"outer\"),\n",
    "       on =\"route_schedule_uuid\",\n",
    "        how = \"outer\"),\n",
    "       on =\"route_schedule_uuid\",\n",
    "        how = \"outer\"),\n",
    "       on =\"route_schedule_uuid\",\n",
    "        how = \"outer\"),on =\"route_schedule_uuid\",\n",
    "        how = \"outer\")"
   ]
  },
  {
   "cell_type": "code",
   "execution_count": null,
   "id": "b8a2e1a1",
   "metadata": {
    "papermill": {
     "duration": null,
     "end_time": null,
     "exception": null,
     "start_time": null,
     "status": "pending"
    },
    "tags": []
   },
   "outputs": [],
   "source": [
    "route_records.isna().sum()"
   ]
  },
  {
   "cell_type": "code",
   "execution_count": null,
   "id": "14d8d5ad",
   "metadata": {
    "papermill": {
     "duration": null,
     "end_time": null,
     "exception": null,
     "start_time": null,
     "status": "pending"
    },
    "tags": []
   },
   "outputs": [],
   "source": [
    "route_records.dropna(inplace=True)"
   ]
  },
  {
   "cell_type": "code",
   "execution_count": null,
   "id": "4bbaf1c5",
   "metadata": {
    "papermill": {
     "duration": null,
     "end_time": null,
     "exception": null,
     "start_time": null,
     "status": "pending"
    },
    "tags": []
   },
   "outputs": [],
   "source": [
    "route_records"
   ]
  },
  {
   "cell_type": "markdown",
   "id": "3144b913",
   "metadata": {
    "papermill": {
     "duration": null,
     "end_time": null,
     "exception": null,
     "start_time": null,
     "status": "pending"
    },
    "tags": []
   },
   "source": [
    "## Converting list columns into strings "
   ]
  },
  {
   "cell_type": "code",
   "execution_count": null,
   "id": "f5d4d5e1",
   "metadata": {
    "papermill": {
     "duration": null,
     "end_time": null,
     "exception": null,
     "start_time": null,
     "status": "pending"
    },
    "tags": []
   },
   "outputs": [],
   "source": [
    "route_records[\"route_type\"] = route_records[\"route_type\"].astype(\"str\").str.strip(\"[]\").str.replace(\"'\",\"\")\n",
    "route_records[\"source_cities\"] = route_records[\"source_cities\"].astype(\"str\").str.strip(\"[]\").str.replace(\"'\",\"\")\n",
    "route_records[\"destination_cities\"] = route_records[\"destination_cities\"].astype(\"str\").str.strip(\"[]\").str.replace(\"'\",\"\")\n",
    "route_records[\"source_states\"] = route_records[\"source_states\"].astype(\"str\").str.strip(\"[]\").str.replace(\"'\",\"\")\n",
    "                             \n",
    "route_records[\"destination_states\"] = route_records[\"destination_states\"].astype(\"str\").str.strip(\"[]\").str.replace(\"'\",\"\")"
   ]
  },
  {
   "cell_type": "code",
   "execution_count": null,
   "id": "f40bd3e6",
   "metadata": {
    "papermill": {
     "duration": null,
     "end_time": null,
     "exception": null,
     "start_time": null,
     "status": "pending"
    },
    "tags": []
   },
   "outputs": [],
   "source": [
    "route_records"
   ]
  },
  {
   "cell_type": "code",
   "execution_count": null,
   "id": "c08252d3",
   "metadata": {
    "papermill": {
     "duration": null,
     "end_time": null,
     "exception": null,
     "start_time": null,
     "status": "pending"
    },
    "tags": []
   },
   "outputs": [],
   "source": [
    "\n",
    "route_records.drop([\"route_schedule_uuid\"],axis = 1,inplace=True)"
   ]
  },
  {
   "cell_type": "code",
   "execution_count": null,
   "id": "79613726",
   "metadata": {
    "papermill": {
     "duration": null,
     "end_time": null,
     "exception": null,
     "start_time": null,
     "status": "pending"
    },
    "tags": []
   },
   "outputs": [],
   "source": [
    "route_records.head()"
   ]
  },
  {
   "cell_type": "code",
   "execution_count": null,
   "id": "e1744465",
   "metadata": {
    "papermill": {
     "duration": null,
     "end_time": null,
     "exception": null,
     "start_time": null,
     "status": "pending"
    },
    "tags": []
   },
   "outputs": [],
   "source": [
    "\n"
   ]
  },
  {
   "cell_type": "code",
   "execution_count": null,
   "id": "cc0df8f3",
   "metadata": {
    "papermill": {
     "duration": null,
     "end_time": null,
     "exception": null,
     "start_time": null,
     "status": "pending"
    },
    "tags": []
   },
   "outputs": [],
   "source": [
    "route_records[\"ROUTE\"] = route_records[\"source_cities\"] + \" -- \" + route_records[\"destination_cities\"]"
   ]
  },
  {
   "cell_type": "code",
   "execution_count": null,
   "id": "b9bd0e60",
   "metadata": {
    "papermill": {
     "duration": null,
     "end_time": null,
     "exception": null,
     "start_time": null,
     "status": "pending"
    },
    "tags": []
   },
   "outputs": [],
   "source": [
    "# Pop function in pandas removes the specified column from the dataframe and returns it, so my route_records will not have\n",
    "# 'ROUTE' column\n",
    "first_column = route_records.pop('ROUTE')"
   ]
  },
  {
   "cell_type": "code",
   "execution_count": null,
   "id": "6322e9fa",
   "metadata": {
    "papermill": {
     "duration": null,
     "end_time": null,
     "exception": null,
     "start_time": null,
     "status": "pending"
    },
    "tags": []
   },
   "outputs": [],
   "source": [
    "# Inserting first_column inserts the first_column to the starting of the dataframe\n",
    "route_records.insert(0, 'ROUTE', first_column)"
   ]
  },
  {
   "cell_type": "markdown",
   "id": "84f6cb9d",
   "metadata": {
    "papermill": {
     "duration": null,
     "end_time": null,
     "exception": null,
     "start_time": null,
     "status": "pending"
    },
    "tags": []
   },
   "source": [
    "## Since the data is divided into multiple steps like connecting flights, I am extracting first source and final destination"
   ]
  },
  {
   "cell_type": "code",
   "execution_count": null,
   "id": "9245514c",
   "metadata": {
    "papermill": {
     "duration": null,
     "end_time": null,
     "exception": null,
     "start_time": null,
     "status": "pending"
    },
    "tags": []
   },
   "outputs": [],
   "source": [
    "route_records[\"source_cities\"].str.split(\" \").apply(lambda x:x[0]) +\" TO \" + route_records[\"destination_cities\"].str.split(\" \").apply(lambda x:x[-1])"
   ]
  },
  {
   "cell_type": "code",
   "execution_count": null,
   "id": "9eac7548",
   "metadata": {
    "papermill": {
     "duration": null,
     "end_time": null,
     "exception": null,
     "start_time": null,
     "status": "pending"
    },
    "tags": []
   },
   "outputs": [],
   "source": [
    "route_records[\"SouceToDestination_city\"] =route_records[\"source_cities\"].str.split(\" \").apply(lambda x:x[0]) +\" TO \" + route_records[\"destination_cities\"].str.split(\" \").apply(lambda x:x[-1])"
   ]
  },
  {
   "cell_type": "code",
   "execution_count": null,
   "id": "269d508d",
   "metadata": {
    "papermill": {
     "duration": null,
     "end_time": null,
     "exception": null,
     "start_time": null,
     "status": "pending"
    },
    "tags": []
   },
   "outputs": [],
   "source": [
    "column=route_records.pop('SouceToDestination_city')"
   ]
  },
  {
   "cell_type": "code",
   "execution_count": null,
   "id": "fb6a99f9",
   "metadata": {
    "papermill": {
     "duration": null,
     "end_time": null,
     "exception": null,
     "start_time": null,
     "status": "pending"
    },
    "tags": []
   },
   "outputs": [],
   "source": [
    "route_records.insert(0,'SouceToDestination_city',column)"
   ]
  },
  {
   "cell_type": "code",
   "execution_count": null,
   "id": "53151f57",
   "metadata": {
    "papermill": {
     "duration": null,
     "end_time": null,
     "exception": null,
     "start_time": null,
     "status": "pending"
    },
    "tags": []
   },
   "outputs": [],
   "source": [
    "route_records"
   ]
  },
  {
   "cell_type": "markdown",
   "id": "4321c3a6",
   "metadata": {
    "papermill": {
     "duration": null,
     "end_time": null,
     "exception": null,
     "start_time": null,
     "status": "pending"
    },
    "tags": []
   },
   "source": [
    "## Some insights of the data"
   ]
  },
  {
   "cell_type": "markdown",
   "id": "0e9246ac",
   "metadata": {
    "papermill": {
     "duration": null,
     "end_time": null,
     "exception": null,
     "start_time": null,
     "status": "pending"
    },
    "tags": []
   },
   "source": [
    "## Busiest Route Analysis \n",
    "### Number of Trips between cities , sorted highest to lowest\n",
    "#### Top 20 source and destination cities which have high freqency of trips in between"
   ]
  },
  {
   "cell_type": "code",
   "execution_count": null,
   "id": "23147758",
   "metadata": {
    "papermill": {
     "duration": null,
     "end_time": null,
     "exception": null,
     "start_time": null,
     "status": "pending"
    },
    "tags": []
   },
   "outputs": [],
   "source": [
    "Number_of_trips_between_cities = df_new.groupby([\"source_city_state\",\n",
    "                                               \"destination_city_state\"])[\"trip_uuid\"].nunique().sort_values(ascending=False).reset_index()\n",
    "Number_of_trips_between_cities.head(20)"
   ]
  },
  {
   "cell_type": "markdown",
   "id": "7e2a704e",
   "metadata": {
    "papermill": {
     "duration": null,
     "end_time": null,
     "exception": null,
     "start_time": null,
     "status": "pending"
    },
    "tags": []
   },
   "source": [
    "### As we can see in the above data, Bangalore,Mumbai,Delhi,Hyderabd,Bhiwandi are among the top 5 places where most deliveries occur."
   ]
  },
  {
   "cell_type": "code",
   "execution_count": null,
   "id": "bce36e1d",
   "metadata": {
    "papermill": {
     "duration": null,
     "end_time": null,
     "exception": null,
     "start_time": null,
     "status": "pending"
    },
    "tags": []
   },
   "outputs": [],
   "source": [
    "Number_of_trips_between_cities.loc[Number_of_trips_between_cities[\"source_city_state\"] != Number_of_trips_between_cities[\"destination_city_state\"]].head(25)"
   ]
  },
  {
   "cell_type": "markdown",
   "id": "1de45884",
   "metadata": {
    "papermill": {
     "duration": null,
     "end_time": null,
     "exception": null,
     "start_time": null,
     "status": "pending"
    },
    "tags": []
   },
   "source": [
    "### As seen above most intercity deliveries occur between Bhiwandi and Mumbai/ Delhi and Gurgaon"
   ]
  },
  {
   "cell_type": "markdown",
   "id": "98813855",
   "metadata": {
    "papermill": {
     "duration": null,
     "end_time": null,
     "exception": null,
     "start_time": null,
     "status": "pending"
    },
    "tags": []
   },
   "source": [
    "### Top routes having maximum distance and max deliveries"
   ]
  },
  {
   "cell_type": "code",
   "execution_count": null,
   "id": "f2ce7bf4",
   "metadata": {
    "papermill": {
     "duration": null,
     "end_time": null,
     "exception": null,
     "start_time": null,
     "status": "pending"
    },
    "tags": []
   },
   "outputs": [],
   "source": [
    "\n",
    "X= route_records[['ROUTE','Number_of_Trips']].sort_values(by=\"Number_of_Trips\",ascending=False).head(35)\n",
    "fig,axes=plt.subplots(figsize=(10,8))\n",
    "sns.barplot(y = X[\"ROUTE\"],\n",
    "           x= X[\"Number_of_Trips\"])\n",
    "axes.set_title('Number of trips per route')\n",
    "plt.xticks(rotation=90)\n",
    "plt.show()"
   ]
  },
  {
   "cell_type": "code",
   "execution_count": null,
   "id": "f3ecb088",
   "metadata": {
    "papermill": {
     "duration": null,
     "end_time": null,
     "exception": null,
     "start_time": null,
     "status": "pending"
    },
    "tags": []
   },
   "outputs": [],
   "source": [
    "plt.figure(figsize=(10,8))\n",
    "\n",
    "X = route_records[[\"ROUTE\", \"Average_Actual_distance_to_destination\",\n",
    "               ]].sort_values(by=\"Average_Actual_distance_to_destination\",ascending=False).head(25)\n",
    "sns.barplot(y = X[\"ROUTE\"],\n",
    "           x = X[\"Average_Actual_distance_to_destination\"])\n",
    "plt.xticks(rotation = 90)\n",
    "plt.show()"
   ]
  },
  {
   "cell_type": "markdown",
   "id": "2719f36e",
   "metadata": {
    "papermill": {
     "duration": null,
     "end_time": null,
     "exception": null,
     "start_time": null,
     "status": "pending"
    },
    "tags": []
   },
   "source": [
    "# Insights"
   ]
  },
  {
   "cell_type": "markdown",
   "id": "c892a200",
   "metadata": {
    "papermill": {
     "duration": null,
     "end_time": null,
     "exception": null,
     "start_time": null,
     "status": "pending"
    },
    "tags": []
   },
   "source": [
    "\n",
    "### - we can observe that Mumbai Maharashtra ,Delhi , Gurgaon(Haryana),Bengaluru Karnataka ,Hyderabad Telangana, Chennai Tamil Nadu, Ahmedabad-Gujarat, Pune Maharashtra, Chandigarh Chandigarh and Kolkata West Bengal are some cities have higest amount of trips happening states with in the city.\n",
    "\n",
    "### - If we talk about , not having equal source and destination states , source and destination cities having higest number of trips in between are : Delhi TO Gurgao , Gurgaon TO Bengaluru , Bhiwandi/Mumbai TO Pune Maharashtra , Sonipat TO Gurgaon,Haryana."
   ]
  },
  {
   "cell_type": "markdown",
   "id": "a9f59453",
   "metadata": {
    "papermill": {
     "duration": null,
     "end_time": null,
     "exception": null,
     "start_time": null,
     "status": "pending"
    },
    "tags": []
   },
   "source": [
    "# Recommendations"
   ]
  },
  {
   "cell_type": "markdown",
   "id": "dd015bbc",
   "metadata": {
    "papermill": {
     "duration": null,
     "end_time": null,
     "exception": null,
     "start_time": null,
     "status": "pending"
    },
    "tags": []
   },
   "source": [
    "### - From state point of view, we have heavy traffic in Mahrashtra followed by Karnataka. This is a good indicator that we need to plan for resources on ground in these 2 states on priority. Especially, during festive seasons.\n",
    "### - North, South and West Zones corridors have significant traffic of orders. But, we have a smaller presence in Central, Eastern and North-Eastern zone.\n",
    "### - As per analysis, It is recommended to use Carting (small vehicles) for delivery with in the city in order to reduce the delivery time, and Heavy trucks for long distance trips or heavy load. We can optimize the delivery time as well as increase the revenue as per requirements."
   ]
  },
  {
   "cell_type": "code",
   "execution_count": null,
   "id": "c2d20e20",
   "metadata": {
    "papermill": {
     "duration": null,
     "end_time": null,
     "exception": null,
     "start_time": null,
     "status": "pending"
    },
    "tags": []
   },
   "outputs": [],
   "source": []
  }
 ],
 "metadata": {
  "kaggle": {
   "accelerator": "none",
   "dataSources": [
    {
     "datasetId": 4397864,
     "sourceId": 7550939,
     "sourceType": "datasetVersion"
    }
   ],
   "dockerImageVersionId": 30673,
   "isGpuEnabled": false,
   "isInternetEnabled": true,
   "language": "python",
   "sourceType": "notebook"
  },
  "kernelspec": {
   "display_name": "Python 3",
   "language": "python",
   "name": "python3"
  },
  "language_info": {
   "codemirror_mode": {
    "name": "ipython",
    "version": 3
   },
   "file_extension": ".py",
   "mimetype": "text/x-python",
   "name": "python",
   "nbconvert_exporter": "python",
   "pygments_lexer": "ipython3",
   "version": "3.10.13"
  },
  "papermill": {
   "default_parameters": {},
   "duration": 14.033109,
   "end_time": "2024-03-29T17:59:02.791870",
   "environment_variables": {},
   "exception": true,
   "input_path": "__notebook__.ipynb",
   "output_path": "__notebook__.ipynb",
   "parameters": {},
   "start_time": "2024-03-29T17:58:48.758761",
   "version": "2.5.0"
  }
 },
 "nbformat": 4,
 "nbformat_minor": 5
}
